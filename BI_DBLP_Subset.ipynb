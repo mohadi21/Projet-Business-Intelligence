{
  "nbformat": 4,
  "nbformat_minor": 0,
  "metadata": {
    "colab": {
      "name": "BI DBLP_Subset.ipynb",
      "provenance": [],
      "collapsed_sections": [],
      "authorship_tag": "ABX9TyPo2pOJ+0yNOqRrGGjrrhBr",
      "include_colab_link": true
    },
    "kernelspec": {
      "display_name": "Python 3",
      "name": "python3"
    }
  },
  "cells": [
    {
      "cell_type": "markdown",
      "metadata": {
        "id": "view-in-github",
        "colab_type": "text"
      },
      "source": [
        "<a href=\"https://colab.research.google.com/github/mohadi21/Projet-Business-Intelligence/blob/main/BI_DBLP_Subset.ipynb\" target=\"_parent\"><img src=\"https://colab.research.google.com/assets/colab-badge.svg\" alt=\"Open In Colab\"/></a>"
      ]
    },
    {
      "cell_type": "code",
      "metadata": {
        "id": "5d8OSVoAq2ya"
      },
      "source": [
        "import pandas as pd\n"
      ],
      "execution_count": null,
      "outputs": []
    },
    {
      "cell_type": "markdown",
      "metadata": {
        "id": "VqnOAgKLCwI7"
      },
      "source": [
        "# **Projet : Business Intelligence**"
      ]
    },
    {
      "cell_type": "markdown",
      "metadata": {
        "id": "k6wk_n_hC2GS"
      },
      "source": [
        "Mohamed Abdelhadi BOUDJEMAI"
      ]
    },
    {
      "cell_type": "markdown",
      "metadata": {
        "id": "BonAsYMcDGDu"
      },
      "source": [
        "fichier DBLP_Subset.tx"
      ]
    },
    {
      "cell_type": "markdown",
      "metadata": {
        "id": "wsXsUQs_P9s0"
      },
      "source": [
        "# PARTIE 1:TRAITEMENT DES DONNEES ET CONSTRUCTION DES MATRICES"
      ]
    },
    {
      "cell_type": "code",
      "metadata": {
        "id": "g65OST_-q-_l"
      },
      "source": [
        "#lecture du fichier TXT \n",
        "with open('/content/DBLP_Subset.txt') as r:\n",
        "       lines = r.readlines()"
      ],
      "execution_count": null,
      "outputs": []
    },
    {
      "cell_type": "code",
      "metadata": {
        "colab": {
          "base_uri": "https://localhost:8080/"
        },
        "id": "Ql6O97shKpo2",
        "outputId": "06362bb9-5d84-49e1-d545-bedf2c6aa138"
      },
      "source": [
        "compt = 0\n",
        "for line in lines:\n",
        "  line = line.strip()\n",
        "  if line == '#@':\n",
        "    compt=compt+1\n",
        "compt"
      ],
      "execution_count": null,
      "outputs": [
        {
          "output_type": "execute_result",
          "data": {
            "text/plain": [
              "414"
            ]
          },
          "metadata": {
            "tags": []
          },
          "execution_count": 3
        }
      ]
    },
    {
      "cell_type": "code",
      "metadata": {
        "colab": {
          "base_uri": "https://localhost:8080/"
        },
        "id": "TKGLVbyv80oP",
        "outputId": "17921a36-b4de-4df3-8bc5-ab3c9f1fdca6"
      },
      "source": [
        "len(lines)"
      ],
      "execution_count": null,
      "outputs": [
        {
          "output_type": "execute_result",
          "data": {
            "text/plain": [
              "467758"
            ]
          },
          "metadata": {
            "tags": []
          },
          "execution_count": 4
        }
      ]
    },
    {
      "cell_type": "markdown",
      "metadata": {
        "id": "ZeH3CbkUDOkl"
      },
      "source": [
        "le code  ci-dessous pour le remplissage de notre dataframe \n",
        "on lit ligne par ligne et on fait remplissage grace les caractères spéciaux. notre séparateur puour chaques article est \"\\n\" ."
      ]
    },
    {
      "cell_type": "code",
      "metadata": {
        "id": "o17sqAsAtThu"
      },
      "source": [
        "data = pd.DataFrame(columns = ['Venue', 'Year', 'authers', 'Titre', 'NbrAuther','id', 'ListCitation','NbrCitation','Abstract'])\n",
        "annee = \"\"\n",
        "venue = \"\"\n",
        "auteur = []\n",
        "au=\"\"\n",
        "nbrauteur = 0\n",
        "citation = []\n",
        "ci=\"\"\n",
        "nbrcitation = 0\n",
        "titre = \"\"\n",
        "resume = \"\"\n",
        "id=\"\"\n",
        "ligne_ajou = \"\"\n",
        "for line in lines :\n",
        "  if line == '\\n':\n",
        "    \n",
        "    nbrauteur = len(auteur)\n",
        "    nbrcitation = len(citation)\n",
        "    au=\",\".join(auteur)\n",
        "    ci=\",\".join(citation)\n",
        "    if auteur == [] or auteur == [\"\"]:\n",
        "      au = None\n",
        "    if annee == '':\n",
        "      annee = None\n",
        "    if citation == [] or citation == [\"\"]:\n",
        "      ci = None\n",
        "    if titre == '':\n",
        "      titre = None\n",
        "    if id == '':\n",
        "      id = None\n",
        "    if resume == '':\n",
        "      resume = None\n",
        "    if venue == '':\n",
        "      venue = None\n",
        "      \n",
        "    col = [[venue,annee,au,titre,nbrauteur,id,ci,nbrcitation,resume]]\n",
        "    df = pd.DataFrame(col, columns = ['Venue', 'Year', 'authers', 'Titre', 'NbrAuther','id', 'ListCitation','NbrCitation','Abstract'])\n",
        "    data = data.append(df, ignore_index=True)  \n",
        "    auteur = []\n",
        "    au=\"\"\n",
        "    citation = []\n",
        "    ci=\"\"\n",
        "    resume = \"\"\n",
        "    ligne_ajou = \"\"\n",
        "    \n",
        "  line = line.strip()\n",
        "  if line.startswith( '#*' ):\n",
        "    titre = line[2:]\n",
        "  elif line.startswith( '#@' ):\n",
        "     ligne_ajou = 'a'\n",
        "     auteur.append(line[2:])\n",
        "  elif line.startswith( '#t' ):\n",
        "    annee = line[2:]\n",
        "  elif line.startswith( '#c' ):\n",
        "    venue = line[2:]\n",
        "  elif line.startswith( '#index' ):\n",
        "    id = line[6:]\n",
        "  elif line.startswith( '#%' ):\n",
        "    citation.append(line[2:])\n",
        "  elif line.startswith( '#!' ):\n",
        "    ligne_ajou = 'b'\n",
        "    resume = resume + ' ' + line[2:]\n",
        "\n",
        "  elif ligne_ajou == 'a':\n",
        "    auteur.append(line[2:])\n",
        "  elif ligne_ajou == 'b':\n",
        "    resume = resume + ' ' + line \n"
      ],
      "execution_count": null,
      "outputs": []
    },
    {
      "cell_type": "code",
      "metadata": {
        "colab": {
          "base_uri": "https://localhost:8080/",
          "height": 1000
        },
        "id": "CHtXk-vq4AqW",
        "outputId": "b959e704-83aa-4242-e14b-ef4e16e6c46f"
      },
      "source": [
        "data\n",
        "#data.to_csv(r'data.csv', index=False, header=True)"
      ],
      "execution_count": null,
      "outputs": [
        {
          "output_type": "execute_result",
          "data": {
            "text/html": [
              "<div>\n",
              "<style scoped>\n",
              "    .dataframe tbody tr th:only-of-type {\n",
              "        vertical-align: middle;\n",
              "    }\n",
              "\n",
              "    .dataframe tbody tr th {\n",
              "        vertical-align: top;\n",
              "    }\n",
              "\n",
              "    .dataframe thead th {\n",
              "        text-align: right;\n",
              "    }\n",
              "</style>\n",
              "<table border=\"1\" class=\"dataframe\">\n",
              "  <thead>\n",
              "    <tr style=\"text-align: right;\">\n",
              "      <th></th>\n",
              "      <th>Venue</th>\n",
              "      <th>Year</th>\n",
              "      <th>authers</th>\n",
              "      <th>Titre</th>\n",
              "      <th>NbrAuther</th>\n",
              "      <th>id</th>\n",
              "      <th>ListCitation</th>\n",
              "      <th>NbrCitation</th>\n",
              "      <th>Abstract</th>\n",
              "    </tr>\n",
              "  </thead>\n",
              "  <tbody>\n",
              "    <tr>\n",
              "      <th>0</th>\n",
              "      <td>DAC</td>\n",
              "      <td>1988</td>\n",
              "      <td>Chung-Kuan Cheng,vid N. Deutsch</td>\n",
              "      <td>Improved Channel Routing by Via Minimization a...</td>\n",
              "      <td>2</td>\n",
              "      <td>131751</td>\n",
              "      <td>133716,133521,134343</td>\n",
              "      <td>3</td>\n",
              "      <td>Channel routing area improvement by means of ...</td>\n",
              "    </tr>\n",
              "    <tr>\n",
              "      <th>1</th>\n",
              "      <td>DAC</td>\n",
              "      <td>2006</td>\n",
              "      <td>Lei Cheng,ang Deng,ming Chen,rtin D. F. Wong</td>\n",
              "      <td>A fast simultaneous input vector generation an...</td>\n",
              "      <td>4</td>\n",
              "      <td>131752</td>\n",
              "      <td>132550,530568,436486,134259,283007,134422,2821...</td>\n",
              "      <td>8</td>\n",
              "      <td>Input vector control (IVC) technique is based...</td>\n",
              "    </tr>\n",
              "    <tr>\n",
              "      <th>2</th>\n",
              "      <td>DAC</td>\n",
              "      <td>1992</td>\n",
              "      <td>Kwang-Ting Cheng,-Keung Tony Ma</td>\n",
              "      <td>On the Over-Specification Problem in Sequentia...</td>\n",
              "      <td>2</td>\n",
              "      <td>131756</td>\n",
              "      <td>455537,1078626,131745</td>\n",
              "      <td>3</td>\n",
              "      <td>The authors show that some ATPG (automatic te...</td>\n",
              "    </tr>\n",
              "    <tr>\n",
              "      <th>3</th>\n",
              "      <td>DAC</td>\n",
              "      <td>2005</td>\n",
              "      <td>Lerong Cheng,oebe Wong,i Li,n Lin,i He</td>\n",
              "      <td>Device and architecture co-optimization for FP...</td>\n",
              "      <td>5</td>\n",
              "      <td>131759</td>\n",
              "      <td>214244,215701,214503,282575,214411,214505,132929</td>\n",
              "      <td>7</td>\n",
              "      <td>Device optimization considering supply voltag...</td>\n",
              "    </tr>\n",
              "    <tr>\n",
              "      <th>4</th>\n",
              "      <td>DAC</td>\n",
              "      <td>1989</td>\n",
              "      <td>Wu-Tung Cheng,ng-Lin Yu</td>\n",
              "      <td>Differential Fault Simulation - a Fast Method ...</td>\n",
              "      <td>2</td>\n",
              "      <td>131760</td>\n",
              "      <td>131744,806030</td>\n",
              "      <td>2</td>\n",
              "      <td>A new fast fault simulator called differentia...</td>\n",
              "    </tr>\n",
              "    <tr>\n",
              "      <th>...</th>\n",
              "      <td>...</td>\n",
              "      <td>...</td>\n",
              "      <td>...</td>\n",
              "      <td>...</td>\n",
              "      <td>...</td>\n",
              "      <td>...</td>\n",
              "      <td>...</td>\n",
              "      <td>...</td>\n",
              "      <td>...</td>\n",
              "    </tr>\n",
              "    <tr>\n",
              "      <th>37961</th>\n",
              "      <td>Journal of Systems and Software</td>\n",
              "      <td>2010</td>\n",
              "      <td>Magne Jørgensen</td>\n",
              "      <td>Selection of strategies in judgment-based effo...</td>\n",
              "      <td>1</td>\n",
              "      <td>1600529</td>\n",
              "      <td>996865,601059,361510,492786,997634,1128515,107...</td>\n",
              "      <td>13</td>\n",
              "      <td>We currently know little about the factors th...</td>\n",
              "    </tr>\n",
              "    <tr>\n",
              "      <th>37962</th>\n",
              "      <td>Journal of Systems and Software</td>\n",
              "      <td>2010</td>\n",
              "      <td>Abbas Nayebi,mid Sarbazi-Azad,nnar Karlsson</td>\n",
              "      <td>Performance analysis of opportunistic broadcas...</td>\n",
              "      <td>3</td>\n",
              "      <td>1600531</td>\n",
              "      <td>505564,1114157,412964,588689,53668,692884,1247511</td>\n",
              "      <td>7</td>\n",
              "      <td>This paper investigates a class of mobile wir...</td>\n",
              "    </tr>\n",
              "    <tr>\n",
              "      <th>37963</th>\n",
              "      <td>Journal of Systems and Software</td>\n",
              "      <td>2010</td>\n",
              "      <td>Rossella Fortuna,igi Alfredo Grieco,nnaro Bogg...</td>\n",
              "      <td>Quality adaptive end-to-end packet scheduling ...</td>\n",
              "      <td>4</td>\n",
              "      <td>1600532</td>\n",
              "      <td>396959,794228,588835,997951</td>\n",
              "      <td>4</td>\n",
              "      <td>In Internet multimedia streaming the quality ...</td>\n",
              "    </tr>\n",
              "    <tr>\n",
              "      <th>37964</th>\n",
              "      <td>Journal of Systems and Software</td>\n",
              "      <td>2010</td>\n",
              "      <td>Richard Werner Nelem Pazzi,enxia Zhang,zedine ...</td>\n",
              "      <td>Design and evaluation of a novel MAC layer han...</td>\n",
              "      <td>3</td>\n",
              "      <td>1600537</td>\n",
              "      <td>666821,784037,506991,505779,1247751</td>\n",
              "      <td>5</td>\n",
              "      <td>In recent years the IEEE 802.11 wireless netw...</td>\n",
              "    </tr>\n",
              "    <tr>\n",
              "      <th>37965</th>\n",
              "      <td>Journal of Systems and Software</td>\n",
              "      <td>2010</td>\n",
              "      <td>Liang Zhao,med Yassin Al-Dubai,yong Min</td>\n",
              "      <td>GLBM: A new QoS aware multicast scheme for wir...</td>\n",
              "      <td>3</td>\n",
              "      <td>1600541</td>\n",
              "      <td>793240,506314,803044,609215,803091,505759,4327...</td>\n",
              "      <td>10</td>\n",
              "      <td>Wireless mesh networks (WMNs) have been attra...</td>\n",
              "    </tr>\n",
              "  </tbody>\n",
              "</table>\n",
              "<p>37966 rows × 9 columns</p>\n",
              "</div>"
            ],
            "text/plain": [
              "                                 Venue  ...                                           Abstract\n",
              "0                                  DAC  ...   Channel routing area improvement by means of ...\n",
              "1                                  DAC  ...   Input vector control (IVC) technique is based...\n",
              "2                                  DAC  ...   The authors show that some ATPG (automatic te...\n",
              "3                                  DAC  ...   Device optimization considering supply voltag...\n",
              "4                                  DAC  ...   A new fast fault simulator called differentia...\n",
              "...                                ...  ...                                                ...\n",
              "37961  Journal of Systems and Software  ...   We currently know little about the factors th...\n",
              "37962  Journal of Systems and Software  ...   This paper investigates a class of mobile wir...\n",
              "37963  Journal of Systems and Software  ...   In Internet multimedia streaming the quality ...\n",
              "37964  Journal of Systems and Software  ...   In recent years the IEEE 802.11 wireless netw...\n",
              "37965  Journal of Systems and Software  ...   Wireless mesh networks (WMNs) have been attra...\n",
              "\n",
              "[37966 rows x 9 columns]"
            ]
          },
          "metadata": {
            "tags": []
          },
          "execution_count": 6
        }
      ]
    },
    {
      "cell_type": "code",
      "metadata": {
        "colab": {
          "base_uri": "https://localhost:8080/"
        },
        "id": "BTCsQe0fBYta",
        "outputId": "42ca15a1-9718-4986-e279-aa84203d1925"
      },
      "source": [
        "data.info()"
      ],
      "execution_count": null,
      "outputs": [
        {
          "output_type": "stream",
          "text": [
            "<class 'pandas.core.frame.DataFrame'>\n",
            "RangeIndex: 37966 entries, 0 to 37965\n",
            "Data columns (total 9 columns):\n",
            " #   Column        Non-Null Count  Dtype \n",
            "---  ------        --------------  ----- \n",
            " 0   Venue         37964 non-null  object\n",
            " 1   Year          37966 non-null  object\n",
            " 2   authers       37549 non-null  object\n",
            " 3   Titre         37966 non-null  object\n",
            " 4   NbrAuther     37966 non-null  object\n",
            " 5   id            37966 non-null  object\n",
            " 6   ListCitation  18746 non-null  object\n",
            " 7   NbrCitation   37966 non-null  object\n",
            " 8   Abstract      20557 non-null  object\n",
            "dtypes: object(9)\n",
            "memory usage: 2.6+ MB\n"
          ],
          "name": "stdout"
        }
      ]
    },
    {
      "cell_type": "code",
      "metadata": {
        "colab": {
          "base_uri": "https://localhost:8080/",
          "height": 658
        },
        "id": "3rNqEom4rbww",
        "outputId": "ddf3812c-fe39-49b4-f288-5be4c2fe9813"
      },
      "source": [
        "import matplotlib.pyplot as plt\n",
        "import seaborn as sns #importing seaborn module \n",
        "import warnings\n",
        "warnings.filterwarnings('ignore')  #this will ignore the warnings.it wont display warnings in notebook\n",
        "#plt.style.use('fivethirtyeight')\n",
        "plt.style.use('ggplot')\n",
        "plt.rcParams['figure.figsize']=[6,3]\n",
        "plt.rcParams['figure.dpi']=80\n",
        "plt.figure(figsize=(10,10))\n",
        "sns.heatmap(data.isnull(),cbar=False,cmap='YlGnBu')\n",
        "plt.ioff()"
      ],
      "execution_count": null,
      "outputs": [
        {
          "output_type": "display_data",
          "data": {
            "image/png": "[encoded data removed]",
            "text/plain": [
              "<Figure size 800x800 with 1 Axes>"
            ]
          },
          "metadata": {
            "tags": []
          }
        }
      ]
    },
    {
      "cell_type": "code",
      "metadata": {
        "colab": {
          "base_uri": "https://localhost:8080/",
          "height": 325
        },
        "id": "8E2ng8nrqr6d",
        "outputId": "70ed11fa-7dfc-4860-f4c7-261497117b25"
      },
      "source": [
        "Total=data.isnull().sum().sort_values(ascending=False)\n",
        "Percent=round(Total/len(data)*100,2)\n",
        "pd.concat([Total,Percent],axis=1,keys=['Total','Percent'])\n",
        "#citation, resume et la colonne auteurs ont des données manquantes"
      ],
      "execution_count": null,
      "outputs": [
        {
          "output_type": "execute_result",
          "data": {
            "text/html": [
              "<div>\n",
              "<style scoped>\n",
              "    .dataframe tbody tr th:only-of-type {\n",
              "        vertical-align: middle;\n",
              "    }\n",
              "\n",
              "    .dataframe tbody tr th {\n",
              "        vertical-align: top;\n",
              "    }\n",
              "\n",
              "    .dataframe thead th {\n",
              "        text-align: right;\n",
              "    }\n",
              "</style>\n",
              "<table border=\"1\" class=\"dataframe\">\n",
              "  <thead>\n",
              "    <tr style=\"text-align: right;\">\n",
              "      <th></th>\n",
              "      <th>Total</th>\n",
              "      <th>Percent</th>\n",
              "    </tr>\n",
              "  </thead>\n",
              "  <tbody>\n",
              "    <tr>\n",
              "      <th>ListCitation</th>\n",
              "      <td>19220</td>\n",
              "      <td>50.62</td>\n",
              "    </tr>\n",
              "    <tr>\n",
              "      <th>Abstract</th>\n",
              "      <td>17409</td>\n",
              "      <td>45.85</td>\n",
              "    </tr>\n",
              "    <tr>\n",
              "      <th>authers</th>\n",
              "      <td>417</td>\n",
              "      <td>1.10</td>\n",
              "    </tr>\n",
              "    <tr>\n",
              "      <th>Venue</th>\n",
              "      <td>2</td>\n",
              "      <td>0.01</td>\n",
              "    </tr>\n",
              "    <tr>\n",
              "      <th>NbrCitation</th>\n",
              "      <td>0</td>\n",
              "      <td>0.00</td>\n",
              "    </tr>\n",
              "    <tr>\n",
              "      <th>id</th>\n",
              "      <td>0</td>\n",
              "      <td>0.00</td>\n",
              "    </tr>\n",
              "    <tr>\n",
              "      <th>NbrAuther</th>\n",
              "      <td>0</td>\n",
              "      <td>0.00</td>\n",
              "    </tr>\n",
              "    <tr>\n",
              "      <th>Titre</th>\n",
              "      <td>0</td>\n",
              "      <td>0.00</td>\n",
              "    </tr>\n",
              "    <tr>\n",
              "      <th>Year</th>\n",
              "      <td>0</td>\n",
              "      <td>0.00</td>\n",
              "    </tr>\n",
              "  </tbody>\n",
              "</table>\n",
              "</div>"
            ],
            "text/plain": [
              "              Total  Percent\n",
              "ListCitation  19220    50.62\n",
              "Abstract      17409    45.85\n",
              "authers         417     1.10\n",
              "Venue             2     0.01\n",
              "NbrCitation       0     0.00\n",
              "id                0     0.00\n",
              "NbrAuther         0     0.00\n",
              "Titre             0     0.00\n",
              "Year              0     0.00"
            ]
          },
          "metadata": {
            "tags": []
          },
          "execution_count": 45
        }
      ]
    },
    {
      "cell_type": "code",
      "metadata": {
        "colab": {
          "base_uri": "https://localhost:8080/",
          "height": 206
        },
        "id": "kcsyTxONrmoW",
        "outputId": "5e7b83b7-2855-477b-db51-79f578afff7e"
      },
      "source": [
        "data.describe()\n"
      ],
      "execution_count": null,
      "outputs": [
        {
          "output_type": "execute_result",
          "data": {
            "text/html": [
              "<div>\n",
              "<style scoped>\n",
              "    .dataframe tbody tr th:only-of-type {\n",
              "        vertical-align: middle;\n",
              "    }\n",
              "\n",
              "    .dataframe tbody tr th {\n",
              "        vertical-align: top;\n",
              "    }\n",
              "\n",
              "    .dataframe thead th {\n",
              "        text-align: right;\n",
              "    }\n",
              "</style>\n",
              "<table border=\"1\" class=\"dataframe\">\n",
              "  <thead>\n",
              "    <tr style=\"text-align: right;\">\n",
              "      <th></th>\n",
              "      <th>Venue</th>\n",
              "      <th>Year</th>\n",
              "      <th>authers</th>\n",
              "      <th>Titre</th>\n",
              "      <th>NbrAuther</th>\n",
              "      <th>id</th>\n",
              "      <th>ListCitation</th>\n",
              "      <th>NbrCitation</th>\n",
              "      <th>Abstract</th>\n",
              "    </tr>\n",
              "  </thead>\n",
              "  <tbody>\n",
              "    <tr>\n",
              "      <th>count</th>\n",
              "      <td>37964</td>\n",
              "      <td>37966</td>\n",
              "      <td>37549</td>\n",
              "      <td>37966</td>\n",
              "      <td>37966</td>\n",
              "      <td>37966</td>\n",
              "      <td>18746</td>\n",
              "      <td>37966</td>\n",
              "      <td>20557</td>\n",
              "    </tr>\n",
              "    <tr>\n",
              "      <th>unique</th>\n",
              "      <td>283</td>\n",
              "      <td>75</td>\n",
              "      <td>32657</td>\n",
              "      <td>36923</td>\n",
              "      <td>18</td>\n",
              "      <td>37963</td>\n",
              "      <td>18350</td>\n",
              "      <td>67</td>\n",
              "      <td>20525</td>\n",
              "    </tr>\n",
              "    <tr>\n",
              "      <th>top</th>\n",
              "      <td>J. Symb. Log.</td>\n",
              "      <td>2009</td>\n",
              "      <td>[David B. Lomet]</td>\n",
              "      <td>Preface.</td>\n",
              "      <td>1</td>\n",
              "      <td>132139</td>\n",
              "      <td>[86]</td>\n",
              "      <td>0</td>\n",
              "      <td>This paper presents the findings of a five-ye...</td>\n",
              "    </tr>\n",
              "    <tr>\n",
              "      <th>freq</th>\n",
              "      <td>3402</td>\n",
              "      <td>4866</td>\n",
              "      <td>75</td>\n",
              "      <td>123</td>\n",
              "      <td>27178</td>\n",
              "      <td>3</td>\n",
              "      <td>18</td>\n",
              "      <td>19220</td>\n",
              "      <td>3</td>\n",
              "    </tr>\n",
              "  </tbody>\n",
              "</table>\n",
              "</div>"
            ],
            "text/plain": [
              "                Venue  ...                                           Abstract\n",
              "count           37964  ...                                              20557\n",
              "unique            283  ...                                              20525\n",
              "top     J. Symb. Log.  ...   This paper presents the findings of a five-ye...\n",
              "freq             3402  ...                                                  3\n",
              "\n",
              "[4 rows x 9 columns]"
            ]
          },
          "metadata": {
            "tags": []
          },
          "execution_count": 46
        }
      ]
    },
    {
      "cell_type": "code",
      "metadata": {
        "colab": {
          "base_uri": "https://localhost:8080/"
        },
        "id": "uHma_WWb6ufJ",
        "outputId": "dfb22f68-ba7c-4ed5-b117-0c310487fe69"
      },
      "source": [
        "print(data.shape)\n",
        "print(data.columns.values)"
      ],
      "execution_count": null,
      "outputs": [
        {
          "output_type": "stream",
          "text": [
            "(37966, 9)\n",
            "['Venue' 'Year' 'authers' 'Titre' 'NbrAuther' 'id' 'ListCitation'\n",
            " 'NbrCitation' 'Abstract']\n"
          ],
          "name": "stdout"
        }
      ]
    },
    {
      "cell_type": "markdown",
      "metadata": {
        "id": "o-AgQ2PiQN8l"
      },
      "source": [
        "Construction des matrices Documents-termes pour les titres des articles ainsi que pour les résumés\n"
      ]
    },
    {
      "cell_type": "code",
      "metadata": {
        "colab": {
          "base_uri": "https://localhost:8080/"
        },
        "id": "qqofsPspvmsz",
        "outputId": "974f67f1-7824-481a-a15f-5f0f7feb3f07"
      },
      "source": [
        "from nltk.corpus import stopwords\n",
        "import nltk\n",
        "nltk.download('wordnet')\n",
        "nltk.download('stopwords')\n",
        "from textblob import Word\n",
        "from sklearn.feature_extraction.text import CountVectorizer\n",
        "from wordcloud import wordcloud, STOPWORDS\n",
        "import matplotlib\n",
        "import matplotlib.pyplot as plt\n",
        "import numpy as np"
      ],
      "execution_count": null,
      "outputs": [
        {
          "output_type": "stream",
          "text": [
            "[nltk_data] Downloading package wordnet to /root/nltk_data...\n",
            "[nltk_data]   Unzipping corpora/wordnet.zip.\n",
            "[nltk_data] Downloading package stopwords to /root/nltk_data...\n",
            "[nltk_data]   Unzipping corpora/stopwords.zip.\n"
          ],
          "name": "stdout"
        }
      ]
    },
    {
      "cell_type": "code",
      "metadata": {
        "colab": {
          "base_uri": "https://localhost:8080/"
        },
        "id": "Zj3vXDt_xV4Y",
        "outputId": "b801c749-ba5b-4cf7-9425-64be34da4263"
      },
      "source": [
        "plt.style.use('classic')\n",
        "bow = CountVectorizer(max_features=2500, lowercase=True, ngram_range=(1,1), analyzer=\"word\")\n",
        "bow_title = CountVectorizer(max_features=1500, lowercase=True, ngram_range=(1,1), analyzer=\"word\")\n",
        "stop = stopwords.words('english') + stopwords.words('french') +[\"présentons\", \"présente\", \"résultats\",\"comme\",\"dune\", 'dun', 'afin','entre', 'article','ainsi','partir', 'plus','très', 'approche','méthodes', 'méthode','données', 'proposons','permet' ,'deux']\n",
        "\n",
        "stop = np.unique(stop).tolist()\n",
        "print ((stop))"
      ],
      "execution_count": null,
      "outputs": [
        {
          "output_type": "stream",
          "text": [
            "['a', 'about', 'above', 'afin', 'after', 'again', 'against', 'ai', 'aie', 'aient', 'aies', 'ain', 'ainsi', 'ait', 'all', 'am', 'an', 'and', 'any', 'approche', 'are', 'aren', \"aren't\", 'article', 'as', 'at', 'au', 'aura', 'aurai', 'auraient', 'aurais', 'aurait', 'auras', 'aurez', 'auriez', 'aurions', 'aurons', 'auront', 'aux', 'avaient', 'avais', 'avait', 'avec', 'avez', 'aviez', 'avions', 'avons', 'ayant', 'ayante', 'ayantes', 'ayants', 'ayez', 'ayons', 'be', 'because', 'been', 'before', 'being', 'below', 'between', 'both', 'but', 'by', 'c', 'can', 'ce', 'ces', 'comme', 'couldn', \"couldn't\", 'd', 'dans', 'de', 'des', 'deux', 'did', 'didn', \"didn't\", 'do', 'does', 'doesn', \"doesn't\", 'doing', 'don', \"don't\", 'données', 'down', 'du', 'dun', 'dune', 'during', 'each', 'elle', 'en', 'entre', 'es', 'est', 'et', 'eu', 'eue', 'eues', 'eurent', 'eus', 'eusse', 'eussent', 'eusses', 'eussiez', 'eussions', 'eut', 'eux', 'eûmes', 'eût', 'eûtes', 'few', 'for', 'from', 'furent', 'further', 'fus', 'fusse', 'fussent', 'fusses', 'fussiez', 'fussions', 'fut', 'fûmes', 'fût', 'fûtes', 'had', 'hadn', \"hadn't\", 'has', 'hasn', \"hasn't\", 'have', 'haven', \"haven't\", 'having', 'he', 'her', 'here', 'hers', 'herself', 'him', 'himself', 'his', 'how', 'i', 'if', 'il', 'ils', 'in', 'into', 'is', 'isn', \"isn't\", 'it', \"it's\", 'its', 'itself', 'j', 'je', 'just', 'l', 'la', 'le', 'les', 'leur', 'll', 'lui', 'm', 'ma', 'mais', 'me', 'mes', 'mightn', \"mightn't\", 'moi', 'mon', 'more', 'most', 'mustn', \"mustn't\", 'my', 'myself', 'méthode', 'méthodes', 'même', 'n', 'ne', 'needn', \"needn't\", 'no', 'nor', 'nos', 'not', 'notre', 'nous', 'now', 'o', 'of', 'off', 'on', 'once', 'only', 'ont', 'or', 'other', 'ou', 'our', 'ours', 'ourselves', 'out', 'over', 'own', 'par', 'partir', 'pas', 'permet', 'plus', 'pour', 'proposons', 'présente', 'présentons', 'qu', 'que', 'qui', 're', 'résultats', 's', 'sa', 'same', 'se', 'sera', 'serai', 'seraient', 'serais', 'serait', 'seras', 'serez', 'seriez', 'serions', 'serons', 'seront', 'ses', 'shan', \"shan't\", 'she', \"she's\", 'should', \"should've\", 'shouldn', \"shouldn't\", 'so', 'soient', 'sois', 'soit', 'some', 'sommes', 'son', 'sont', 'soyez', 'soyons', 'such', 'suis', 'sur', 't', 'ta', 'te', 'tes', 'than', 'that', \"that'll\", 'the', 'their', 'theirs', 'them', 'themselves', 'then', 'there', 'these', 'they', 'this', 'those', 'through', 'to', 'toi', 'ton', 'too', 'très', 'tu', 'un', 'under', 'une', 'until', 'up', 've', 'very', 'vos', 'votre', 'vous', 'was', 'wasn', \"wasn't\", 'we', 'were', 'weren', \"weren't\", 'what', 'when', 'where', 'which', 'while', 'who', 'whom', 'why', 'will', 'with', 'won', \"won't\", 'wouldn', \"wouldn't\", 'y', 'you', \"you'd\", \"you'll\", \"you're\", \"you've\", 'your', 'yours', 'yourself', 'yourselves', 'à', 'étaient', 'étais', 'était', 'étant', 'étante', 'étantes', 'étants', 'étiez', 'étions', 'été', 'étée', 'étées', 'étés', 'êtes']\n"
          ],
          "name": "stdout"
        }
      ]
    },
    {
      "cell_type": "code",
      "metadata": {
        "colab": {
          "base_uri": "https://localhost:8080/"
        },
        "id": "lhIqV50N2yqe",
        "outputId": "c3e309a5-49f6-4480-ce4f-85819a3ed485"
      },
      "source": [
        "data=data.dropna(subset=['Titre'])\n",
        "data['Titre']=data['Titre'].apply(lambda x:\" \".join(x.lower() for x in x.split()))\n",
        "data['Titre']=data['Titre'].str.replace('[^\\w\\s]',' ')\n",
        "data['Titre']=data['Titre'].apply(lambda x:\" \".join(x for x in x.split() if x not in stop))\n",
        "data['Titre'] = data['Titre'].apply(lambda x: \" \".join([Word(word).lemmatize() for word in x.split()]))\n",
        "print(data['Titre'])"
      ],
      "execution_count": null,
      "outputs": [
        {
          "output_type": "stream",
          "text": [
            "0        improved channel routing via minimization shif...\n",
            "1        fast simultaneous input vector generation gate...\n",
            "2          specification problem sequential atpg algorithm\n",
            "3        device architecture co optimization fpga power...\n",
            "4        differential fault simulation fast method usin...\n",
            "                               ...                        \n",
            "37961    selection strategy judgment based effort estim...\n",
            "37962    performance analysis opportunistic broadcast d...\n",
            "37963    quality adaptive end end packet scheduling avo...\n",
            "37964    design evaluation novel mac layer handoff prot...\n",
            "37965    glbm new qos aware multicast scheme wireless m...\n",
            "Name: Titre, Length: 37966, dtype: object\n"
          ],
          "name": "stdout"
        }
      ]
    },
    {
      "cell_type": "code",
      "metadata": {
        "colab": {
          "base_uri": "https://localhost:8080/"
        },
        "id": "WcdM_m3k7Og9",
        "outputId": "c04dc927-f88c-49b3-a550-6d40ca4337cc"
      },
      "source": [
        "m=bow_title.fit_transform(data['Titre'])\n",
        "m=m.todense()\n",
        "title_words=np.asarray(bow_title.get_feature_names())\n",
        "print(m.shape)\n",
        "print(bow.get_feature_names)\n"
      ],
      "execution_count": null,
      "outputs": [
        {
          "output_type": "stream",
          "text": [
            "(37966, 1500)\n",
            "<bound method CountVectorizer.get_feature_names of CountVectorizer(analyzer='word', binary=False, decode_error='strict',\n",
            "                dtype=<class 'numpy.int64'>, encoding='utf-8', input='content',\n",
            "                lowercase=True, max_df=1.0, max_features=2500, min_df=1,\n",
            "                ngram_range=(1, 1), preprocessor=None, stop_words=None,\n",
            "                strip_accents=None, token_pattern='(?u)\\\\b\\\\w\\\\w+\\\\b',\n",
            "                tokenizer=None, vocabulary=None)>\n"
          ],
          "name": "stdout"
        }
      ]
    },
    {
      "cell_type": "code",
      "metadata": {
        "colab": {
          "base_uri": "https://localhost:8080/"
        },
        "id": "XwE0TUE8LuzH",
        "outputId": "1361ef03-7126-46c4-9d06-9d4985747438"
      },
      "source": [
        "data=data.dropna(subset=['Abstract'])\n",
        "data['Abstract']=data['Abstract'].apply(lambda x:\" \".join(x.lower() for x in x.split()))\n",
        "data['Abstract']=data['Abstract'].str.replace('[^\\w\\s]',' ')\n",
        "data['Abstract']=data['Abstract'].apply(lambda x:\" \".join(x for x in x.split() if x not in stop))\n",
        "data['Abstract'] = data['Abstract'].apply(lambda x: \" \".join([Word(word).lemmatize() for word in x.split()]))\n",
        "print(data['Abstract'])"
      ],
      "execution_count": null,
      "outputs": [
        {
          "output_type": "stream",
          "text": [
            "0        channel routing area improvement mean via mini...\n",
            "1        input vector control ivc technique based obser...\n",
            "2        author show atpg automatic test pattern genera...\n",
            "3        device optimization considering supply voltage...\n",
            "4        new fast fault simulator called differential f...\n",
            "                               ...                        \n",
            "37961    currently know little factor motivate selectio...\n",
            "37962    paper investigates class mobile wireless senso...\n",
            "37963    internet multimedia streaming quality delivere...\n",
            "37964    recent year ieee 802 11 wireless network famil...\n",
            "37965    wireless mesh network wmns attracting signific...\n",
            "Name: Abstract, Length: 20557, dtype: object\n"
          ],
          "name": "stdout"
        }
      ]
    },
    {
      "cell_type": "code",
      "metadata": {
        "colab": {
          "base_uri": "https://localhost:8080/"
        },
        "id": "TF8kdFG4Tl4A",
        "outputId": "a9eefce9-71b9-44de-faa3-7efd1969bd43"
      },
      "source": [
        "m2=bow.fit_transform(data['Abstract'])\n",
        "m2=m2.todense()\n",
        "abstract_words=np.asarray(bow.get_feature_names())\n",
        "print(m2.shape)\n",
        "print(bow.get_feature_names)"
      ],
      "execution_count": null,
      "outputs": [
        {
          "output_type": "stream",
          "text": [
            "(20557, 2500)\n",
            "<bound method CountVectorizer.get_feature_names of CountVectorizer(analyzer='word', binary=False, decode_error='strict',\n",
            "                dtype=<class 'numpy.int64'>, encoding='utf-8', input='content',\n",
            "                lowercase=True, max_df=1.0, max_features=2500, min_df=1,\n",
            "                ngram_range=(1, 1), preprocessor=None, stop_words=None,\n",
            "                strip_accents=None, token_pattern='(?u)\\\\b\\\\w\\\\w+\\\\b',\n",
            "                tokenizer=None, vocabulary=None)>\n"
          ],
          "name": "stdout"
        }
      ]
    },
    {
      "cell_type": "code",
      "metadata": {
        "colab": {
          "base_uri": "https://localhost:8080/"
        },
        "id": "ChxrUrxSkSpX",
        "outputId": "d9b33f39-7f62-4ff0-8e82-e767ef55c758"
      },
      "source": [
        "b = np.array([i for i in range(m.shape[0])])\n",
        "doc_term_tit = np.c_[b,m]\n",
        "doc_term_tit\n",
        "#pd.DataFrame(doc_term_tit).to_csv(r'd_t_titre.csv', index=False, header=True)"
      ],
      "execution_count": null,
      "outputs": [
        {
          "output_type": "execute_result",
          "data": {
            "text/plain": [
              "matrix([[    0,     0,     0, ...,     0,     0,     0],\n",
              "        [    1,     0,     0, ...,     0,     0,     0],\n",
              "        [    2,     0,     0, ...,     0,     0,     0],\n",
              "        ...,\n",
              "        [37963,     0,     0, ...,     0,     0,     0],\n",
              "        [37964,     0,     1, ...,     0,     0,     0],\n",
              "        [37965,     0,     0, ...,     0,     0,     0]])"
            ]
          },
          "metadata": {
            "tags": []
          },
          "execution_count": 14
        }
      ]
    },
    {
      "cell_type": "code",
      "metadata": {
        "colab": {
          "base_uri": "https://localhost:8080/"
        },
        "id": "WC9L3fH8ls4p",
        "outputId": "3110a7f7-c9e4-4d8f-aa3a-737e318eb847"
      },
      "source": [
        "d = np.array([i for i in range(m2.shape[0])])\n",
        "doc_term_ab = np.c_[d,m2]\n",
        "doc_term_ab\n",
        "#pd.DataFrame(doc_term_ab).to_csv(r'd_t_abstact.csv', index=False, header=True)"
      ],
      "execution_count": null,
      "outputs": [
        {
          "output_type": "execute_result",
          "data": {
            "text/plain": [
              "matrix([[    0,     0,     0, ...,     0,     0,     0],\n",
              "        [    1,     0,     0, ...,     0,     0,     0],\n",
              "        [    2,     0,     0, ...,     0,     0,     0],\n",
              "        ...,\n",
              "        [20554,     0,     0, ...,     0,     0,     0],\n",
              "        [20555,     0,     0, ...,     0,     0,     0],\n",
              "        [20556,     0,     0, ...,     0,     0,     0]])"
            ]
          },
          "metadata": {
            "tags": []
          },
          "execution_count": 15
        }
      ]
    },
    {
      "cell_type": "code",
      "metadata": {
        "colab": {
          "base_uri": "https://localhost:8080/"
        },
        "id": "RhZW5wtvEqsp",
        "outputId": "4b0ad4ff-af61-4637-c5c4-d518aaa9de46"
      },
      "source": [
        "data=data.dropna(subset=['Titre'])\n",
        "data=data.dropna(subset=['Abstract'])\n",
        "data['titre_res']=data['Abstract']+\" \"+data['Titre']\n",
        "data['titre_res']=data['titre_res'].apply(lambda x:\" \".join(x.lower() for x in x.split()))\n",
        "data['titre_res']=data['titre_res'].str.replace('[^\\w\\s]',' ')\n",
        "data['titre_res']=data['titre_res'].apply(lambda x:\" \".join(x for x in x.split() if x not in stop))\n",
        "data['titre_res'] = data['titre_res'].apply(lambda x: \" \".join([Word(word).lemmatize() for word in x.split()]))\n",
        "print(data['titre_res'])\n"
      ],
      "execution_count": null,
      "outputs": [
        {
          "output_type": "stream",
          "text": [
            "0        channel routing area improvement mean via mini...\n",
            "1        input vector control ivc technique based obser...\n",
            "2        author show atpg automatic test pattern genera...\n",
            "3        device optimization considering supply voltage...\n",
            "4        new fast fault simulator called differential f...\n",
            "                               ...                        \n",
            "37961    currently know little factor motivate selectio...\n",
            "37962    paper investigates class mobile wireless senso...\n",
            "37963    internet multimedia streaming quality delivere...\n",
            "37964    recent year ieee 802 11 wireless network famil...\n",
            "37965    wireless mesh network wmns attracting signific...\n",
            "Name: titre_res, Length: 20557, dtype: object\n"
          ],
          "name": "stdout"
        }
      ]
    },
    {
      "cell_type": "code",
      "metadata": {
        "colab": {
          "base_uri": "https://localhost:8080/"
        },
        "id": "1S4oPb2_cwpE",
        "outputId": "63bdc56c-7cc8-4e68-d599-e781ba08cffa"
      },
      "source": [
        "m3=bow.fit_transform(data['titre_res'])\n",
        "m3=m3.todense()\n",
        "tit_abs_words=np.asarray(bow.get_feature_names())\n",
        "print(m3.shape)\n",
        "print(bow.get_feature_names)"
      ],
      "execution_count": null,
      "outputs": [
        {
          "output_type": "stream",
          "text": [
            "(20557, 2500)\n",
            "<bound method CountVectorizer.get_feature_names of CountVectorizer(analyzer='word', binary=False, decode_error='strict',\n",
            "                dtype=<class 'numpy.int64'>, encoding='utf-8', input='content',\n",
            "                lowercase=True, max_df=1.0, max_features=2500, min_df=1,\n",
            "                ngram_range=(1, 1), preprocessor=None, stop_words=None,\n",
            "                strip_accents=None, token_pattern='(?u)\\\\b\\\\w\\\\w+\\\\b',\n",
            "                tokenizer=None, vocabulary=None)>\n"
          ],
          "name": "stdout"
        }
      ]
    },
    {
      "cell_type": "code",
      "metadata": {
        "colab": {
          "base_uri": "https://localhost:8080/"
        },
        "id": "rgpi8Ptx5Pk4",
        "outputId": "c94c9487-a0f0-45fb-e98c-fbce1beed701"
      },
      "source": [
        "ddd = np.array([i for i in range(m3.shape[0])])\n",
        "doc_term_tit_ab = np.c_[ddd,m3]\n",
        "doc_term_tit_ab\n",
        "#pd.DataFrame(doc_term_tit_ab).to_csv(r'd_t_tit_abs.csv', index=False, header=True)"
      ],
      "execution_count": null,
      "outputs": [
        {
          "output_type": "execute_result",
          "data": {
            "text/plain": [
              "matrix([[    0,     0,     0, ...,     0,     0,     0],\n",
              "        [    1,     0,     0, ...,     0,     0,     0],\n",
              "        [    2,     0,     0, ...,     0,     0,     0],\n",
              "        ...,\n",
              "        [20554,     0,     0, ...,     0,     0,     0],\n",
              "        [20555,     0,     0, ...,     0,     0,     0],\n",
              "        [20556,     0,     0, ...,     0,     0,     0]])"
            ]
          },
          "metadata": {
            "tags": []
          },
          "execution_count": 19
        }
      ]
    },
    {
      "cell_type": "code",
      "metadata": {
        "id": "q6kMSHRuW8bi"
      },
      "source": [
        "def splitauthor(authors):\n",
        "  temp = authors.lower()\n",
        "  splitted_authors = []\n",
        "  for author in temp.split(\",\"):\n",
        "    splitted_authors.append(author.strip())\n",
        "  return splitted_authors\n"
      ],
      "execution_count": null,
      "outputs": []
    },
    {
      "cell_type": "code",
      "metadata": {
        "colab": {
          "base_uri": "https://localhost:8080/"
        },
        "id": "r2Gg-b1CZZxw",
        "outputId": "b3a886ed-5ff9-4abd-ac39-8731cc05dfd0"
      },
      "source": [
        "data=data.dropna(subset=['authers'])\n",
        "data[\"splitted_authors\"] = data[\"authers\"].apply(splitauthor)\n",
        "auteurs = []\n",
        "for index, row in data.iterrows():\n",
        "  for author in row[\"splitted_authors\"]:\n",
        "    if author not in auteurs:\n",
        "      auteurs.append(author)\n",
        "auteurs\n",
        "len(auteurs)"
      ],
      "execution_count": null,
      "outputs": [
        {
          "output_type": "execute_result",
          "data": {
            "text/plain": [
              "37316"
            ]
          },
          "metadata": {
            "tags": []
          },
          "execution_count": 16
        }
      ]
    },
    {
      "cell_type": "code",
      "metadata": {
        "colab": {
          "base_uri": "https://localhost:8080/",
          "height": 415
        },
        "id": "XS9ojY48bzHf",
        "outputId": "bff1faf3-99e7-47fc-b4da-339997c3319c"
      },
      "source": [
        "id_auteurs = pd.DataFrame({'auteurs':auteurs})\n",
        "id_auteurs[\"id_auteurs\"] = id_auteurs.index\n",
        "#id_auteurs.to_csv(r'id_auteurs.csv', index=False, header=True)\n",
        "id_auteurs"
      ],
      "execution_count": null,
      "outputs": [
        {
          "output_type": "execute_result",
          "data": {
            "text/html": [
              "<div>\n",
              "<style scoped>\n",
              "    .dataframe tbody tr th:only-of-type {\n",
              "        vertical-align: middle;\n",
              "    }\n",
              "\n",
              "    .dataframe tbody tr th {\n",
              "        vertical-align: top;\n",
              "    }\n",
              "\n",
              "    .dataframe thead th {\n",
              "        text-align: right;\n",
              "    }\n",
              "</style>\n",
              "<table border=\"1\" class=\"dataframe\">\n",
              "  <thead>\n",
              "    <tr style=\"text-align: right;\">\n",
              "      <th></th>\n",
              "      <th>auteurs</th>\n",
              "      <th>id_auteurs</th>\n",
              "    </tr>\n",
              "  </thead>\n",
              "  <tbody>\n",
              "    <tr>\n",
              "      <th>0</th>\n",
              "      <td>chung-kuan cheng</td>\n",
              "      <td>0</td>\n",
              "    </tr>\n",
              "    <tr>\n",
              "      <th>1</th>\n",
              "      <td>vid n. deutsch</td>\n",
              "      <td>1</td>\n",
              "    </tr>\n",
              "    <tr>\n",
              "      <th>2</th>\n",
              "      <td>lei cheng</td>\n",
              "      <td>2</td>\n",
              "    </tr>\n",
              "    <tr>\n",
              "      <th>3</th>\n",
              "      <td>ang deng</td>\n",
              "      <td>3</td>\n",
              "    </tr>\n",
              "    <tr>\n",
              "      <th>4</th>\n",
              "      <td>ming chen</td>\n",
              "      <td>4</td>\n",
              "    </tr>\n",
              "    <tr>\n",
              "      <th>...</th>\n",
              "      <td>...</td>\n",
              "      <td>...</td>\n",
              "    </tr>\n",
              "    <tr>\n",
              "      <th>37311</th>\n",
              "      <td>etro camarda</td>\n",
              "      <td>37311</td>\n",
              "    </tr>\n",
              "    <tr>\n",
              "      <th>37312</th>\n",
              "      <td>richard werner nelem pazzi</td>\n",
              "      <td>37312</td>\n",
              "    </tr>\n",
              "    <tr>\n",
              "      <th>37313</th>\n",
              "      <td>enxia zhang</td>\n",
              "      <td>37313</td>\n",
              "    </tr>\n",
              "    <tr>\n",
              "      <th>37314</th>\n",
              "      <td>liang zhao</td>\n",
              "      <td>37314</td>\n",
              "    </tr>\n",
              "    <tr>\n",
              "      <th>37315</th>\n",
              "      <td>med yassin al-dubai</td>\n",
              "      <td>37315</td>\n",
              "    </tr>\n",
              "  </tbody>\n",
              "</table>\n",
              "<p>37316 rows × 2 columns</p>\n",
              "</div>"
            ],
            "text/plain": [
              "                          auteurs  id_auteurs\n",
              "0                chung-kuan cheng           0\n",
              "1                  vid n. deutsch           1\n",
              "2                       lei cheng           2\n",
              "3                        ang deng           3\n",
              "4                       ming chen           4\n",
              "...                           ...         ...\n",
              "37311                etro camarda       37311\n",
              "37312  richard werner nelem pazzi       37312\n",
              "37313                 enxia zhang       37313\n",
              "37314                  liang zhao       37314\n",
              "37315         med yassin al-dubai       37315\n",
              "\n",
              "[37316 rows x 2 columns]"
            ]
          },
          "metadata": {
            "tags": []
          },
          "execution_count": 22
        }
      ]
    },
    {
      "cell_type": "code",
      "metadata": {
        "id": "58HIcIW6hUJm"
      },
      "source": [
        "#Matrice doc_authors\n",
        "doc_auteurs=np.zeros((len(data), len(auteurs)), dtype=int)\n",
        "author_map = {x:i for i,x in enumerate(auteurs)}\n",
        "\n",
        "for index, row in data.reset_index().iterrows():\n",
        "  for author in row[\"splitted_authors\"]:\n",
        "    doc_auteurs[index, author_map[author]] = 1 \n",
        "\n"
      ],
      "execution_count": null,
      "outputs": []
    },
    {
      "cell_type": "code",
      "metadata": {
        "colab": {
          "base_uri": "https://localhost:8080/"
        },
        "id": "73gVDM1XlDYN",
        "outputId": "8fc0cee2-a30e-470e-ba37-768e5cd67e04"
      },
      "source": [
        "#pd.DataFrame(doc_auteurs).to_csv(r'doc_auteurs.csv', index=False, header=True)\n",
        "doc_auteurs"
      ],
      "execution_count": null,
      "outputs": [
        {
          "output_type": "execute_result",
          "data": {
            "text/plain": [
              "array([[1, 1, 0, ..., 0, 0, 0],\n",
              "       [0, 0, 1, ..., 0, 0, 0],\n",
              "       [0, 0, 0, ..., 0, 0, 0],\n",
              "       ...,\n",
              "       [0, 0, 0, ..., 0, 0, 0],\n",
              "       [0, 0, 0, ..., 1, 0, 0],\n",
              "       [0, 0, 0, ..., 0, 1, 1]])"
            ]
          },
          "metadata": {
            "tags": []
          },
          "execution_count": 18
        }
      ]
    },
    {
      "cell_type": "code",
      "metadata": {
        "colab": {
          "base_uri": "https://localhost:8080/"
        },
        "id": "O5AZe5c46jOz",
        "outputId": "2f603acb-e06a-47ec-c053-a6265723c527"
      },
      "source": [
        "data=data.dropna(subset=['ListCitation'])\n",
        "data[\"splitted_Citation\"] = data[\"ListCitation\"].apply(splitauthor)\n",
        "citations = []\n",
        "for index, row in data.iterrows():\n",
        "  for c in row[\"splitted_Citation\"]:\n",
        "    if c not in citations:\n",
        "      citations.append(author)\n",
        "citations\n",
        "len(citations)"
      ],
      "execution_count": null,
      "outputs": [
        {
          "output_type": "execute_result",
          "data": {
            "text/plain": [
              "126890"
            ]
          },
          "metadata": {
            "tags": []
          },
          "execution_count": 19
        }
      ]
    },
    {
      "cell_type": "code",
      "metadata": {
        "colab": {
          "background_save": true
        },
        "id": "dWQ5yTU8-96j",
        "outputId": "1dc22afb-7e53-4454-f1a1-ee4f072dd7a8"
      },
      "source": [
        "mat_adj_auteurs= doc_auteurs.dot(doc_auteurs.transpose())\n",
        "mat_adj_auteurs.shape"
      ],
      "execution_count": null,
      "outputs": [
        {
          "output_type": "execute_result",
          "data": {
            "text/plain": [
              "(20552, 20552)"
            ]
          },
          "metadata": {
            "tags": []
          },
          "execution_count": 0
        }
      ]
    },
    {
      "cell_type": "code",
      "metadata": {
        "id": "uTclLF9qXwhZ"
      },
      "source": [
        "import numpy as np\n",
        "#matrices d'adjacence\n",
        "m = np.transpose(doc_term_tit)\n",
        "mat_adj_titre=np.dot(doc_term_tit,m)\n",
        "print(mat_adj_titre)\n",
        "print(mat_adj_titre.shape)"
      ],
      "execution_count": null,
      "outputs": []
    },
    {
      "cell_type": "code",
      "metadata": {
        "id": "N8eHiE3khp8U"
      },
      "source": [
        "#matrices d'adjacence\n",
        "m = np.transpose(doc_term_ab)\n",
        "mat_adj_abstract=np.dot(doc_term_ab,m)\n",
        "print(mat_adj_abstract)\n",
        "print(mat_adj_abstract.shape)"
      ],
      "execution_count": null,
      "outputs": []
    },
    {
      "cell_type": "code",
      "metadata": {
        "colab": {
          "base_uri": "https://localhost:8080/"
        },
        "id": "rhQLy8CyIi8L",
        "outputId": "6db07c1d-5917-4f98-c432-34bc434ef610"
      },
      "source": [
        "pip install python-louvain"
      ],
      "execution_count": null,
      "outputs": [
        {
          "output_type": "stream",
          "text": [
            "Requirement already satisfied: python-louvain in /usr/local/lib/python3.6/dist-packages (0.14)\n",
            "Requirement already satisfied: networkx in /usr/local/lib/python3.6/dist-packages (from python-louvain) (2.5)\n",
            "Requirement already satisfied: numpy in /usr/local/lib/python3.6/dist-packages (from python-louvain) (1.18.5)\n",
            "Requirement already satisfied: decorator>=4.3.0 in /usr/local/lib/python3.6/dist-packages (from networkx->python-louvain) (4.4.2)\n"
          ],
          "name": "stdout"
        }
      ]
    },
    {
      "cell_type": "code",
      "metadata": {
        "colab": {
          "base_uri": "https://localhost:8080/"
        },
        "id": "QOg63InoIsaB",
        "outputId": "79f6d134-0cd3-436d-e0fa-159797000b1b"
      },
      "source": [
        "pip install cluster_ensembles"
      ],
      "execution_count": null,
      "outputs": [
        {
          "output_type": "stream",
          "text": [
            "Collecting cluster_ensembles\n",
            "\u001b[?25l  Downloading https://files.pythonhosted.org/packages/ba/b4/6449b7ef22b47ff599dbb2c007db8f05e3362964e1a796f408804913a1c6/Cluster_Ensembles-1.16.tar.gz (5.3MB)\n",
            "\u001b[K     |████████████████████████████████| 5.3MB 3.6MB/s \n",
            "\u001b[?25hRequirement already satisfied: numpy>=1.9.0 in /usr/local/lib/python3.6/dist-packages (from cluster_ensembles) (1.18.5)\n",
            "Requirement already satisfied: scipy in /usr/local/lib/python3.6/dist-packages (from cluster_ensembles) (1.4.1)\n",
            "Requirement already satisfied: sklearn in /usr/local/lib/python3.6/dist-packages (from cluster_ensembles) (0.0)\n",
            "Requirement already satisfied: setuptools in /usr/local/lib/python3.6/dist-packages (from cluster_ensembles) (50.3.2)\n",
            "Requirement already satisfied: tables in /usr/local/lib/python3.6/dist-packages (from cluster_ensembles) (3.4.4)\n",
            "Requirement already satisfied: scikit-learn in /usr/local/lib/python3.6/dist-packages (from sklearn->cluster_ensembles) (0.22.2.post1)\n",
            "Requirement already satisfied: numexpr>=2.5.2 in /usr/local/lib/python3.6/dist-packages (from tables->cluster_ensembles) (2.7.1)\n",
            "Requirement already satisfied: six>=1.9.0 in /usr/local/lib/python3.6/dist-packages (from tables->cluster_ensembles) (1.15.0)\n",
            "Requirement already satisfied: joblib>=0.11 in /usr/local/lib/python3.6/dist-packages (from scikit-learn->sklearn->cluster_ensembles) (0.17.0)\n",
            "Building wheels for collected packages: cluster-ensembles\n",
            "  Building wheel for cluster-ensembles (setup.py) ... \u001b[?25l\u001b[?25hdone\n",
            "  Created wheel for cluster-ensembles: filename=Cluster_Ensembles-1.16-cp36-none-any.whl size=5331377 sha256=0866b29361d572c113155ddae567d3ad514cc5c105276f46e4986419e8373e5b\n",
            "  Stored in directory: /root/.cache/pip/wheels/3f/fb/2b/60b8a4ab88c9327943ad194237635f071c64dc11f36e86b3fd\n",
            "Successfully built cluster-ensembles\n",
            "Installing collected packages: cluster-ensembles\n",
            "Successfully installed cluster-ensembles-1.16\n"
          ],
          "name": "stdout"
        }
      ]
    },
    {
      "cell_type": "code",
      "metadata": {
        "colab": {
          "base_uri": "https://localhost:8080/"
        },
        "id": "gVXv0UA0I05a",
        "outputId": "95b52ec5-c00b-45b4-9d46-953b03f34445"
      },
      "source": [
        "!sudo apt-get install metis"
      ],
      "execution_count": null,
      "outputs": [
        {
          "output_type": "stream",
          "text": [
            "Reading package lists... Done\n",
            "Building dependency tree       \n",
            "Reading state information... Done\n",
            "The following additional packages will be installed:\n",
            "  libmetis5\n",
            "The following NEW packages will be installed:\n",
            "  libmetis5 metis\n",
            "0 upgraded, 2 newly installed, 0 to remove and 14 not upgraded.\n",
            "Need to get 209 kB of archives.\n",
            "After this operation, 698 kB of additional disk space will be used.\n",
            "Get:1 http://archive.ubuntu.com/ubuntu bionic/main amd64 libmetis5 amd64 5.1.0.dfsg-5 [169 kB]\n",
            "Get:2 http://archive.ubuntu.com/ubuntu bionic/universe amd64 metis amd64 5.1.0.dfsg-5 [39.8 kB]\n",
            "Fetched 209 kB in 2s (129 kB/s)\n",
            "debconf: unable to initialize frontend: Dialog\n",
            "debconf: (No usable dialog-like program is installed, so the dialog based frontend cannot be used. at /usr/share/perl5/Debconf/FrontEnd/Dialog.pm line 76, <> line 2.)\n",
            "debconf: falling back to frontend: Readline\n",
            "debconf: unable to initialize frontend: Readline\n",
            "debconf: (This frontend requires a controlling tty.)\n",
            "debconf: falling back to frontend: Teletype\n",
            "dpkg-preconfigure: unable to re-open stdin: \n",
            "Selecting previously unselected package libmetis5:amd64.\n",
            "(Reading database ... 144793 files and directories currently installed.)\n",
            "Preparing to unpack .../libmetis5_5.1.0.dfsg-5_amd64.deb ...\n",
            "Unpacking libmetis5:amd64 (5.1.0.dfsg-5) ...\n",
            "Selecting previously unselected package metis.\n",
            "Preparing to unpack .../metis_5.1.0.dfsg-5_amd64.deb ...\n",
            "Unpacking metis (5.1.0.dfsg-5) ...\n",
            "Setting up libmetis5:amd64 (5.1.0.dfsg-5) ...\n",
            "Setting up metis (5.1.0.dfsg-5) ...\n",
            "Processing triggers for man-db (2.8.3-2ubuntu0.1) ...\n",
            "Processing triggers for libc-bin (2.27-3ubuntu1.2) ...\n",
            "/sbin/ldconfig.real: /usr/local/lib/python3.6/dist-packages/ideep4py/lib/libmkldnn.so.0 is not a symbolic link\n",
            "\n"
          ],
          "name": "stdout"
        }
      ]
    },
    {
      "cell_type": "code",
      "metadata": {
        "colab": {
          "base_uri": "https://localhost:8080/"
        },
        "id": "ek9Dwl4OI4r3",
        "outputId": "a96662da-5982-4ff8-f307-ef7dd87d020d"
      },
      "source": [
        "!pip list -v"
      ],
      "execution_count": null,
      "outputs": [
        {
          "output_type": "stream",
          "text": [
            "Package                       Version         Location                               Installer\n",
            "----------------------------- --------------- -------------------------------------- ---------\n",
            "absl-py                       0.10.0          /usr/local/lib/python3.6/dist-packages pip      \n",
            "alabaster                     0.7.12          /usr/local/lib/python3.6/dist-packages pip      \n",
            "albumentations                0.1.12          /usr/local/lib/python3.6/dist-packages pip      \n",
            "altair                        4.1.0           /usr/local/lib/python3.6/dist-packages pip      \n",
            "argon2-cffi                   20.1.0          /usr/local/lib/python3.6/dist-packages pip      \n",
            "asgiref                       3.3.1           /usr/local/lib/python3.6/dist-packages pip      \n",
            "astor                         0.8.1           /usr/local/lib/python3.6/dist-packages pip      \n",
            "astropy                       4.1             /usr/local/lib/python3.6/dist-packages pip      \n",
            "astunparse                    1.6.3           /usr/local/lib/python3.6/dist-packages pip      \n",
            "async-generator               1.10            /usr/local/lib/python3.6/dist-packages pip      \n",
            "atari-py                      0.2.6           /usr/local/lib/python3.6/dist-packages pip      \n",
            "atomicwrites                  1.4.0           /usr/local/lib/python3.6/dist-packages pip      \n",
            "attrs                         20.3.0          /usr/local/lib/python3.6/dist-packages pip      \n",
            "audioread                     2.1.9           /usr/local/lib/python3.6/dist-packages pip      \n",
            "autograd                      1.3             /usr/local/lib/python3.6/dist-packages pip      \n",
            "Babel                         2.9.0           /usr/local/lib/python3.6/dist-packages pip      \n",
            "backcall                      0.2.0           /usr/local/lib/python3.6/dist-packages pip      \n",
            "beautifulsoup4                4.6.3           /usr/local/lib/python3.6/dist-packages pip      \n",
            "bleach                        3.2.1           /usr/local/lib/python3.6/dist-packages pip      \n",
            "blis                          0.4.1           /usr/local/lib/python3.6/dist-packages pip      \n",
            "bokeh                         2.1.1           /usr/local/lib/python3.6/dist-packages pip      \n",
            "Bottleneck                    1.3.2           /usr/local/lib/python3.6/dist-packages pip      \n",
            "branca                        0.4.1           /usr/local/lib/python3.6/dist-packages pip      \n",
            "bs4                           0.0.1           /usr/local/lib/python3.6/dist-packages pip      \n",
            "CacheControl                  0.12.6          /usr/local/lib/python3.6/dist-packages pip      \n",
            "cachetools                    4.1.1           /usr/local/lib/python3.6/dist-packages pip      \n",
            "catalogue                     1.0.0           /usr/local/lib/python3.6/dist-packages pip      \n",
            "certifi                       2020.11.8       /usr/local/lib/python3.6/dist-packages pip      \n",
            "cffi                          1.14.3          /usr/local/lib/python3.6/dist-packages pip      \n",
            "chainer                       7.4.0           /usr/local/lib/python3.6/dist-packages pip      \n",
            "chardet                       3.0.4           /usr/local/lib/python3.6/dist-packages pip      \n",
            "click                         7.1.2           /usr/local/lib/python3.6/dist-packages pip      \n",
            "cloudpickle                   1.3.0           /usr/local/lib/python3.6/dist-packages pip      \n",
            "Cluster-Ensembles             1.16            /usr/local/lib/python3.6/dist-packages pip      \n",
            "cmake                         3.12.0          /usr/local/lib/python3.6/dist-packages pip      \n",
            "cmdstanpy                     0.9.5           /usr/local/lib/python3.6/dist-packages pip      \n",
            "colorlover                    0.3.0           /usr/local/lib/python3.6/dist-packages pip      \n",
            "community                     1.0.0b1         /usr/local/lib/python3.6/dist-packages pip      \n",
            "contextlib2                   0.5.5           /usr/local/lib/python3.6/dist-packages pip      \n",
            "convertdate                   2.3.0           /usr/local/lib/python3.6/dist-packages pip      \n",
            "coverage                      3.7.1           /usr/local/lib/python3.6/dist-packages pip      \n",
            "coveralls                     0.5             /usr/local/lib/python3.6/dist-packages pip      \n",
            "crcmod                        1.7             /usr/local/lib/python3.6/dist-packages pip      \n",
            "cufflinks                     0.17.3          /usr/local/lib/python3.6/dist-packages pip      \n",
            "cvxopt                        1.2.5           /usr/local/lib/python3.6/dist-packages pip      \n",
            "cvxpy                         1.0.31          /usr/local/lib/python3.6/dist-packages pip      \n",
            "cycler                        0.10.0          /usr/local/lib/python3.6/dist-packages pip      \n",
            "cymem                         2.0.4           /usr/local/lib/python3.6/dist-packages pip      \n",
            "Cython                        0.29.21         /usr/local/lib/python3.6/dist-packages pip      \n",
            "daft                          0.0.4           /usr/local/lib/python3.6/dist-packages pip      \n",
            "dask                          2.12.0          /usr/local/lib/python3.6/dist-packages pip      \n",
            "dataclasses                   0.8             /usr/local/lib/python3.6/dist-packages pip      \n",
            "datascience                   0.10.6          /usr/local/lib/python3.6/dist-packages pip      \n",
            "debugpy                       1.0.0           /usr/local/lib/python3.6/dist-packages pip      \n",
            "decorator                     4.4.2           /usr/local/lib/python3.6/dist-packages pip      \n",
            "defusedxml                    0.6.0           /usr/local/lib/python3.6/dist-packages pip      \n",
            "descartes                     1.1.0           /usr/local/lib/python3.6/dist-packages pip      \n",
            "dill                          0.3.3           /usr/local/lib/python3.6/dist-packages pip      \n",
            "distributed                   1.25.3          /usr/local/lib/python3.6/dist-packages pip      \n",
            "Django                        3.1.3           /usr/local/lib/python3.6/dist-packages pip      \n",
            "dlib                          19.18.0         /usr/local/lib/python3.6/dist-packages pip      \n",
            "dm-tree                       0.1.5           /usr/local/lib/python3.6/dist-packages pip      \n",
            "docopt                        0.6.2           /usr/local/lib/python3.6/dist-packages pip      \n",
            "docutils                      0.16            /usr/local/lib/python3.6/dist-packages pip      \n",
            "dopamine-rl                   1.0.5           /usr/local/lib/python3.6/dist-packages pip      \n",
            "earthengine-api               0.1.238         /usr/local/lib/python3.6/dist-packages pip      \n",
            "easydict                      1.9             /usr/local/lib/python3.6/dist-packages pip      \n",
            "ecos                          2.0.7.post1     /usr/local/lib/python3.6/dist-packages pip      \n",
            "editdistance                  0.5.3           /usr/local/lib/python3.6/dist-packages pip      \n",
            "en-core-web-sm                2.2.5           /usr/local/lib/python3.6/dist-packages pip      \n",
            "entrypoints                   0.3             /usr/local/lib/python3.6/dist-packages pip      \n",
            "ephem                         3.7.7.1         /usr/local/lib/python3.6/dist-packages pip      \n",
            "et-xmlfile                    1.0.1           /usr/local/lib/python3.6/dist-packages pip      \n",
            "fa2                           0.3.5           /usr/local/lib/python3.6/dist-packages pip      \n",
            "fancyimpute                   0.4.3           /usr/local/lib/python3.6/dist-packages pip      \n",
            "fastai                        1.0.61          /usr/local/lib/python3.6/dist-packages pip      \n",
            "fastdtw                       0.3.4           /usr/local/lib/python3.6/dist-packages pip      \n",
            "fastprogress                  1.0.0           /usr/local/lib/python3.6/dist-packages pip      \n",
            "fastrlock                     0.5             /usr/local/lib/python3.6/dist-packages pip      \n",
            "fbprophet                     0.7.1           /usr/local/lib/python3.6/dist-packages          \n",
            "feather-format                0.4.1           /usr/local/lib/python3.6/dist-packages pip      \n",
            "filelock                      3.0.12          /usr/local/lib/python3.6/dist-packages pip      \n",
            "firebase-admin                4.4.0           /usr/local/lib/python3.6/dist-packages pip      \n",
            "fix-yahoo-finance             0.0.22          /usr/local/lib/python3.6/dist-packages pip      \n",
            "Flask                         1.1.2           /usr/local/lib/python3.6/dist-packages pip      \n",
            "flatbuffers                   1.12            /usr/local/lib/python3.6/dist-packages pip      \n",
            "folium                        0.8.3           /usr/local/lib/python3.6/dist-packages pip      \n",
            "future                        0.16.0          /usr/local/lib/python3.6/dist-packages pip      \n",
            "gast                          0.3.3           /usr/local/lib/python3.6/dist-packages pip      \n",
            "GDAL                          2.2.2           /usr/lib/python3/dist-packages                  \n",
            "gdown                         3.6.4           /usr/local/lib/python3.6/dist-packages pip      \n",
            "gensim                        3.6.0           /usr/local/lib/python3.6/dist-packages pip      \n",
            "geographiclib                 1.50            /usr/local/lib/python3.6/dist-packages pip      \n",
            "geopy                         1.17.0          /usr/local/lib/python3.6/dist-packages pip      \n",
            "gin-config                    0.3.0           /usr/local/lib/python3.6/dist-packages pip      \n",
            "glob2                         0.7             /usr/local/lib/python3.6/dist-packages pip      \n",
            "google                        2.0.3           /usr/local/lib/python3.6/dist-packages pip      \n",
            "google-api-core               1.16.0          /usr/local/lib/python3.6/dist-packages pip      \n",
            "google-api-python-client      1.7.12          /usr/local/lib/python3.6/dist-packages pip      \n",
            "google-auth                   1.17.2          /usr/local/lib/python3.6/dist-packages pip      \n",
            "google-auth-httplib2          0.0.4           /usr/local/lib/python3.6/dist-packages pip      \n",
            "google-auth-oauthlib          0.4.2           /usr/local/lib/python3.6/dist-packages pip      \n",
            "google-cloud-bigquery         1.21.0          /usr/local/lib/python3.6/dist-packages pip      \n",
            "google-cloud-bigquery-storage 1.1.0           /usr/local/lib/python3.6/dist-packages pip      \n",
            "google-cloud-core             1.0.3           /usr/local/lib/python3.6/dist-packages pip      \n",
            "google-cloud-datastore        1.8.0           /usr/local/lib/python3.6/dist-packages pip      \n",
            "google-cloud-firestore        1.7.0           /usr/local/lib/python3.6/dist-packages pip      \n",
            "google-cloud-language         1.2.0           /usr/local/lib/python3.6/dist-packages pip      \n",
            "google-cloud-storage          1.18.1          /usr/local/lib/python3.6/dist-packages pip      \n",
            "google-cloud-translate        1.5.0           /usr/local/lib/python3.6/dist-packages pip      \n",
            "google-colab                  1.0.0           /usr/local/lib/python3.6/dist-packages pip      \n",
            "google-pasta                  0.2.0           /usr/local/lib/python3.6/dist-packages pip      \n",
            "google-resumable-media        0.4.1           /usr/local/lib/python3.6/dist-packages pip      \n",
            "googleapis-common-protos      1.52.0          /usr/local/lib/python3.6/dist-packages pip      \n",
            "googledrivedownloader         0.4             /usr/local/lib/python3.6/dist-packages pip      \n",
            "graphviz                      0.10.1          /usr/local/lib/python3.6/dist-packages pip      \n",
            "grpcio                        1.33.2          /usr/local/lib/python3.6/dist-packages pip      \n",
            "gspread                       3.0.1           /usr/local/lib/python3.6/dist-packages pip      \n",
            "gspread-dataframe             3.0.8           /usr/local/lib/python3.6/dist-packages pip      \n",
            "gym                           0.17.3          /usr/local/lib/python3.6/dist-packages pip      \n",
            "h5py                          2.10.0          /usr/local/lib/python3.6/dist-packages pip      \n",
            "HeapDict                      1.0.1           /usr/local/lib/python3.6/dist-packages pip      \n",
            "holidays                      0.10.3          /usr/local/lib/python3.6/dist-packages pip      \n",
            "holoviews                     1.13.5          /usr/local/lib/python3.6/dist-packages pip      \n",
            "html5lib                      1.0.1           /usr/local/lib/python3.6/dist-packages pip      \n",
            "httpimport                    0.5.18          /usr/local/lib/python3.6/dist-packages pip      \n",
            "httplib2                      0.17.4          /usr/local/lib/python3.6/dist-packages pip      \n",
            "httplib2shim                  0.0.3           /usr/local/lib/python3.6/dist-packages pip      \n",
            "humanize                      0.5.1           /usr/local/lib/python3.6/dist-packages pip      \n",
            "hyperopt                      0.1.2           /usr/local/lib/python3.6/dist-packages pip      \n",
            "ideep4py                      2.0.0.post3     /usr/local/lib/python3.6/dist-packages pip      \n",
            "idna                          2.10            /usr/local/lib/python3.6/dist-packages pip      \n",
            "image                         1.5.33          /usr/local/lib/python3.6/dist-packages pip      \n",
            "imageio                       2.4.1           /usr/local/lib/python3.6/dist-packages pip      \n",
            "imagesize                     1.2.0           /usr/local/lib/python3.6/dist-packages pip      \n",
            "imbalanced-learn              0.4.3           /usr/local/lib/python3.6/dist-packages pip      \n",
            "imblearn                      0.0             /usr/local/lib/python3.6/dist-packages pip      \n",
            "imgaug                        0.2.9           /usr/local/lib/python3.6/dist-packages pip      \n",
            "importlib-metadata            2.0.0           /usr/local/lib/python3.6/dist-packages pip      \n",
            "importlib-resources           3.3.0           /usr/local/lib/python3.6/dist-packages pip      \n",
            "imutils                       0.5.3           /usr/local/lib/python3.6/dist-packages pip      \n",
            "inflect                       2.1.0           /usr/local/lib/python3.6/dist-packages pip      \n",
            "iniconfig                     1.1.1           /usr/local/lib/python3.6/dist-packages pip      \n",
            "intel-openmp                  2020.0.133      /usr/local/lib/python3.6/dist-packages pip      \n",
            "intervaltree                  2.1.0           /usr/local/lib/python3.6/dist-packages pip      \n",
            "ipykernel                     4.10.1          /usr/local/lib/python3.6/dist-packages pip      \n",
            "ipython                       5.5.0           /usr/local/lib/python3.6/dist-packages pip      \n",
            "ipython-genutils              0.2.0           /usr/local/lib/python3.6/dist-packages pip      \n",
            "ipython-sql                   0.3.9           /usr/local/lib/python3.6/dist-packages pip      \n",
            "ipywidgets                    7.5.1           /usr/local/lib/python3.6/dist-packages pip      \n",
            "itsdangerous                  1.1.0           /usr/local/lib/python3.6/dist-packages pip      \n",
            "jax                           0.2.6           /usr/local/lib/python3.6/dist-packages pip      \n",
            "jaxlib                        0.1.57+cuda101  /usr/local/lib/python3.6/dist-packages pip      \n",
            "jdcal                         1.4.1           /usr/local/lib/python3.6/dist-packages pip      \n",
            "jedi                          0.17.2          /usr/local/lib/python3.6/dist-packages pip      \n",
            "jieba                         0.42.1          /usr/local/lib/python3.6/dist-packages pip      \n",
            "Jinja2                        2.11.2          /usr/local/lib/python3.6/dist-packages pip      \n",
            "joblib                        0.17.0          /usr/local/lib/python3.6/dist-packages pip      \n",
            "jpeg4py                       0.1.4           /usr/local/lib/python3.6/dist-packages pip      \n",
            "jsonschema                    2.6.0           /usr/local/lib/python3.6/dist-packages pip      \n",
            "jupyter                       1.0.0           /usr/local/lib/python3.6/dist-packages pip      \n",
            "jupyter-client                5.3.5           /usr/local/lib/python3.6/dist-packages pip      \n",
            "jupyter-console               5.2.0           /usr/local/lib/python3.6/dist-packages pip      \n",
            "jupyter-core                  4.7.0           /usr/local/lib/python3.6/dist-packages pip      \n",
            "jupyterlab-pygments           0.1.2           /usr/local/lib/python3.6/dist-packages pip      \n",
            "kaggle                        1.5.9           /usr/local/lib/python3.6/dist-packages pip      \n",
            "kapre                         0.1.3.1         /usr/local/lib/python3.6/dist-packages pip      \n",
            "Keras                         2.4.3           /usr/local/lib/python3.6/dist-packages pip      \n",
            "Keras-Preprocessing           1.1.2           /usr/local/lib/python3.6/dist-packages pip      \n",
            "keras-vis                     0.4.1           /usr/local/lib/python3.6/dist-packages pip      \n",
            "kiwisolver                    1.3.1           /usr/local/lib/python3.6/dist-packages pip      \n",
            "knnimpute                     0.1.0           /usr/local/lib/python3.6/dist-packages pip      \n",
            "korean-lunar-calendar         0.2.1           /usr/local/lib/python3.6/dist-packages pip      \n",
            "librosa                       0.6.3           /usr/local/lib/python3.6/dist-packages pip      \n",
            "lightgbm                      2.2.3           /usr/local/lib/python3.6/dist-packages pip      \n",
            "llvmlite                      0.31.0          /usr/local/lib/python3.6/dist-packages pip      \n",
            "lmdb                          0.99            /usr/local/lib/python3.6/dist-packages pip      \n",
            "lucid                         0.3.8           /usr/local/lib/python3.6/dist-packages pip      \n",
            "LunarCalendar                 0.0.9           /usr/local/lib/python3.6/dist-packages pip      \n",
            "lxml                          4.2.6           /usr/local/lib/python3.6/dist-packages pip      \n",
            "Markdown                      3.3.3           /usr/local/lib/python3.6/dist-packages pip      \n",
            "MarkupSafe                    1.1.1           /usr/local/lib/python3.6/dist-packages pip      \n",
            "matplotlib                    3.2.2           /usr/local/lib/python3.6/dist-packages pip      \n",
            "matplotlib-venn               0.11.6          /usr/local/lib/python3.6/dist-packages pip      \n",
            "missingno                     0.4.2           /usr/local/lib/python3.6/dist-packages pip      \n",
            "mistune                       0.8.4           /usr/local/lib/python3.6/dist-packages pip      \n",
            "mizani                        0.6.0           /usr/local/lib/python3.6/dist-packages pip      \n",
            "mkl                           2019.0          /usr/local/lib/python3.6/dist-packages pip      \n",
            "mlxtend                       0.14.0          /usr/local/lib/python3.6/dist-packages pip      \n",
            "more-itertools                8.6.0           /usr/local/lib/python3.6/dist-packages pip      \n",
            "moviepy                       0.2.3.5         /usr/local/lib/python3.6/dist-packages pip      \n",
            "mpmath                        1.1.0           /usr/local/lib/python3.6/dist-packages pip      \n",
            "msgpack                       1.0.0           /usr/local/lib/python3.6/dist-packages pip      \n",
            "multiprocess                  0.70.11.1       /usr/local/lib/python3.6/dist-packages pip      \n",
            "multitasking                  0.0.9           /usr/local/lib/python3.6/dist-packages pip      \n",
            "murmurhash                    1.0.4           /usr/local/lib/python3.6/dist-packages pip      \n",
            "music21                       5.5.0           /usr/local/lib/python3.6/dist-packages pip      \n",
            "natsort                       5.5.0           /usr/local/lib/python3.6/dist-packages pip      \n",
            "nbclient                      0.5.1           /usr/local/lib/python3.6/dist-packages pip      \n",
            "nbconvert                     5.6.1           /usr/local/lib/python3.6/dist-packages pip      \n",
            "nbformat                      5.0.8           /usr/local/lib/python3.6/dist-packages pip      \n",
            "nest-asyncio                  1.4.3           /usr/local/lib/python3.6/dist-packages pip      \n",
            "networkx                      2.5             /usr/local/lib/python3.6/dist-packages pip      \n",
            "nibabel                       3.0.2           /usr/local/lib/python3.6/dist-packages pip      \n",
            "nltk                          3.2.5           /usr/local/lib/python3.6/dist-packages pip      \n",
            "notebook                      5.3.1           /usr/local/lib/python3.6/dist-packages pip      \n",
            "np-utils                      0.5.12.1        /usr/local/lib/python3.6/dist-packages pip      \n",
            "numba                         0.48.0          /usr/local/lib/python3.6/dist-packages pip      \n",
            "numexpr                       2.7.1           /usr/local/lib/python3.6/dist-packages pip      \n",
            "numpy                         1.18.5          /usr/local/lib/python3.6/dist-packages pip      \n",
            "nvidia-ml-py3                 7.352.0         /usr/local/lib/python3.6/dist-packages pip      \n",
            "oauth2client                  4.1.3           /usr/local/lib/python3.6/dist-packages pip      \n",
            "oauthlib                      3.1.0           /usr/local/lib/python3.6/dist-packages pip      \n",
            "okgrade                       0.4.3           /usr/local/lib/python3.6/dist-packages pip      \n",
            "opencv-contrib-python         4.1.2.30        /usr/local/lib/python3.6/dist-packages pip      \n",
            "opencv-python                 4.1.2.30        /usr/local/lib/python3.6/dist-packages pip      \n",
            "openpyxl                      2.5.9           /usr/local/lib/python3.6/dist-packages pip      \n",
            "opt-einsum                    3.3.0           /usr/local/lib/python3.6/dist-packages pip      \n",
            "osqp                          0.6.1           /usr/local/lib/python3.6/dist-packages pip      \n",
            "packaging                     20.4            /usr/local/lib/python3.6/dist-packages pip      \n",
            "palettable                    3.3.0           /usr/local/lib/python3.6/dist-packages pip      \n",
            "pandas                        1.1.4           /usr/local/lib/python3.6/dist-packages pip      \n",
            "pandas-datareader             0.9.0           /usr/local/lib/python3.6/dist-packages pip      \n",
            "pandas-gbq                    0.13.3          /usr/local/lib/python3.6/dist-packages pip      \n",
            "pandas-profiling              1.4.1           /usr/local/lib/python3.6/dist-packages pip      \n",
            "pandocfilters                 1.4.3           /usr/local/lib/python3.6/dist-packages pip      \n",
            "panel                         0.9.7           /usr/local/lib/python3.6/dist-packages pip      \n",
            "param                         1.10.0          /usr/local/lib/python3.6/dist-packages pip      \n",
            "parso                         0.7.1           /usr/local/lib/python3.6/dist-packages pip      \n",
            "pathlib                       1.0.1           /usr/local/lib/python3.6/dist-packages pip      \n",
            "patsy                         0.5.1           /usr/local/lib/python3.6/dist-packages pip      \n",
            "pexpect                       4.8.0           /usr/local/lib/python3.6/dist-packages pip      \n",
            "pickleshare                   0.7.5           /usr/local/lib/python3.6/dist-packages pip      \n",
            "Pillow                        7.0.0           /usr/local/lib/python3.6/dist-packages pip      \n",
            "pip                           19.3.1          /usr/local/lib/python3.6/dist-packages pip      \n",
            "pip-tools                     4.5.1           /usr/local/lib/python3.6/dist-packages pip      \n",
            "plac                          1.1.3           /usr/local/lib/python3.6/dist-packages pip      \n",
            "plotly                        4.4.1           /usr/local/lib/python3.6/dist-packages pip      \n",
            "plotnine                      0.6.0           /usr/local/lib/python3.6/dist-packages pip      \n",
            "pluggy                        0.7.1           /usr/local/lib/python3.6/dist-packages pip      \n",
            "portpicker                    1.3.1           /usr/local/lib/python3.6/dist-packages pip      \n",
            "prefetch-generator            1.0.1           /usr/local/lib/python3.6/dist-packages pip      \n",
            "preshed                       3.0.4           /usr/local/lib/python3.6/dist-packages pip      \n",
            "prettytable                   2.0.0           /usr/local/lib/python3.6/dist-packages pip      \n",
            "progressbar2                  3.38.0          /usr/local/lib/python3.6/dist-packages pip      \n",
            "prometheus-client             0.9.0           /usr/local/lib/python3.6/dist-packages pip      \n",
            "promise                       2.3             /usr/local/lib/python3.6/dist-packages pip      \n",
            "prompt-toolkit                1.0.18          /usr/local/lib/python3.6/dist-packages pip      \n",
            "protobuf                      3.12.4          /usr/local/lib/python3.6/dist-packages pip      \n",
            "psutil                        5.4.8           /usr/local/lib/python3.6/dist-packages pip      \n",
            "psycopg2                      2.7.6.1         /usr/local/lib/python3.6/dist-packages pip      \n",
            "ptyprocess                    0.6.0           /usr/local/lib/python3.6/dist-packages pip      \n",
            "py                            1.9.0           /usr/local/lib/python3.6/dist-packages pip      \n",
            "pyarrow                       0.14.1          /usr/local/lib/python3.6/dist-packages pip      \n",
            "pyasn1                        0.4.8           /usr/local/lib/python3.6/dist-packages pip      \n",
            "pyasn1-modules                0.2.8           /usr/local/lib/python3.6/dist-packages pip      \n",
            "pycocotools                   2.0.2           /usr/local/lib/python3.6/dist-packages pip      \n",
            "pycparser                     2.20            /usr/local/lib/python3.6/dist-packages pip      \n",
            "pyct                          0.4.8           /usr/local/lib/python3.6/dist-packages pip      \n",
            "pydata-google-auth            1.1.0           /usr/local/lib/python3.6/dist-packages pip      \n",
            "pydot                         1.3.0           /usr/local/lib/python3.6/dist-packages pip      \n",
            "pydot-ng                      2.0.0           /usr/local/lib/python3.6/dist-packages pip      \n",
            "pydotplus                     2.0.2           /usr/local/lib/python3.6/dist-packages pip      \n",
            "PyDrive                       1.3.1           /usr/local/lib/python3.6/dist-packages pip      \n",
            "pyemd                         0.5.1           /usr/local/lib/python3.6/dist-packages pip      \n",
            "pyglet                        1.5.0           /usr/local/lib/python3.6/dist-packages pip      \n",
            "Pygments                      2.6.1           /usr/local/lib/python3.6/dist-packages pip      \n",
            "pygobject                     3.26.1          /usr/lib/python3/dist-packages                  \n",
            "pymc3                         3.7             /usr/local/lib/python3.6/dist-packages pip      \n",
            "PyMeeus                       0.3.7           /usr/local/lib/python3.6/dist-packages pip      \n",
            "pymongo                       3.11.1          /usr/local/lib/python3.6/dist-packages pip      \n",
            "pymystem3                     0.2.0           /usr/local/lib/python3.6/dist-packages pip      \n",
            "PyOpenGL                      3.1.5           /usr/local/lib/python3.6/dist-packages pip      \n",
            "pyparsing                     2.4.7           /usr/local/lib/python3.6/dist-packages pip      \n",
            "pyrsistent                    0.17.3          /usr/local/lib/python3.6/dist-packages pip      \n",
            "pysndfile                     1.3.8           /usr/local/lib/python3.6/dist-packages pip      \n",
            "PySocks                       1.7.1           /usr/local/lib/python3.6/dist-packages pip      \n",
            "pystan                        2.19.1.1        /usr/local/lib/python3.6/dist-packages pip      \n",
            "pytest                        3.6.4           /usr/local/lib/python3.6/dist-packages pip      \n",
            "python-apt                    1.6.5+ubuntu0.3 /usr/lib/python3/dist-packages                  \n",
            "python-chess                  0.23.11         /usr/local/lib/python3.6/dist-packages pip      \n",
            "python-dateutil               2.8.1           /usr/local/lib/python3.6/dist-packages pip      \n",
            "python-louvain                0.14            /usr/local/lib/python3.6/dist-packages pip      \n",
            "python-slugify                4.0.1           /usr/local/lib/python3.6/dist-packages pip      \n",
            "python-utils                  2.4.0           /usr/local/lib/python3.6/dist-packages pip      \n",
            "pytz                          2018.9          /usr/local/lib/python3.6/dist-packages pip      \n",
            "pyviz-comms                   0.7.6           /usr/local/lib/python3.6/dist-packages pip      \n",
            "PyWavelets                    1.1.1           /usr/local/lib/python3.6/dist-packages pip      \n",
            "PyYAML                        3.13            /usr/local/lib/python3.6/dist-packages pip      \n",
            "pyzmq                         20.0.0          /usr/local/lib/python3.6/dist-packages pip      \n",
            "qtconsole                     4.7.7           /usr/local/lib/python3.6/dist-packages pip      \n",
            "QtPy                          1.9.0           /usr/local/lib/python3.6/dist-packages pip      \n",
            "regex                         2019.12.20      /usr/local/lib/python3.6/dist-packages pip      \n",
            "requests                      2.23.0          /usr/local/lib/python3.6/dist-packages pip      \n",
            "requests-oauthlib             1.3.0           /usr/local/lib/python3.6/dist-packages pip      \n",
            "resampy                       0.2.2           /usr/local/lib/python3.6/dist-packages pip      \n",
            "retrying                      1.3.3           /usr/local/lib/python3.6/dist-packages pip      \n",
            "rpy2                          3.2.7           /usr/local/lib/python3.6/dist-packages pip      \n",
            "rsa                           4.6             /usr/local/lib/python3.6/dist-packages pip      \n",
            "scikit-image                  0.16.2          /usr/local/lib/python3.6/dist-packages pip      \n",
            "scikit-learn                  0.22.2.post1    /usr/local/lib/python3.6/dist-packages pip      \n",
            "scipy                         1.4.1           /usr/local/lib/python3.6/dist-packages pip      \n",
            "screen-resolution-extra       0.0.0           /usr/lib/python3/dist-packages                  \n",
            "scs                           2.1.2           /usr/local/lib/python3.6/dist-packages pip      \n",
            "seaborn                       0.11.0          /usr/local/lib/python3.6/dist-packages pip      \n",
            "Send2Trash                    1.5.0           /usr/local/lib/python3.6/dist-packages pip      \n",
            "setuptools                    50.3.2          /usr/local/lib/python3.6/dist-packages pip      \n",
            "setuptools-git                1.2             /usr/local/lib/python3.6/dist-packages pip      \n",
            "Shapely                       1.7.1           /usr/local/lib/python3.6/dist-packages pip      \n",
            "simplegeneric                 0.8.1           /usr/local/lib/python3.6/dist-packages pip      \n",
            "six                           1.15.0          /usr/local/lib/python3.6/dist-packages pip      \n",
            "sklearn                       0.0             /usr/local/lib/python3.6/dist-packages pip      \n",
            "sklearn-pandas                1.8.0           /usr/local/lib/python3.6/dist-packages pip      \n",
            "slugify                       0.0.1           /usr/local/lib/python3.6/dist-packages pip      \n",
            "smart-open                    3.0.0           /usr/local/lib/python3.6/dist-packages pip      \n",
            "snowballstemmer               2.0.0           /usr/local/lib/python3.6/dist-packages pip      \n",
            "sortedcontainers              2.3.0           /usr/local/lib/python3.6/dist-packages pip      \n",
            "spacy                         2.2.4           /usr/local/lib/python3.6/dist-packages pip      \n",
            "Sphinx                        1.8.5           /usr/local/lib/python3.6/dist-packages pip      \n",
            "sphinxcontrib-serializinghtml 1.1.4           /usr/local/lib/python3.6/dist-packages pip      \n",
            "sphinxcontrib-websupport      1.2.4           /usr/local/lib/python3.6/dist-packages pip      \n",
            "SQLAlchemy                    1.3.20          /usr/local/lib/python3.6/dist-packages pip      \n",
            "sqlparse                      0.4.1           /usr/local/lib/python3.6/dist-packages pip      \n",
            "srsly                         1.0.4           /usr/local/lib/python3.6/dist-packages pip      \n",
            "statsmodels                   0.10.2          /usr/local/lib/python3.6/dist-packages pip      \n",
            "sympy                         1.1.1           /usr/local/lib/python3.6/dist-packages pip      \n",
            "tables                        3.4.4           /usr/local/lib/python3.6/dist-packages pip      \n",
            "tabulate                      0.8.7           /usr/local/lib/python3.6/dist-packages pip      \n",
            "tblib                         1.7.0           /usr/local/lib/python3.6/dist-packages pip      \n",
            "tensorboard                   2.3.0           /usr/local/lib/python3.6/dist-packages pip      \n",
            "tensorboard-plugin-wit        1.7.0           /usr/local/lib/python3.6/dist-packages pip      \n",
            "tensorboardcolab              0.0.22          /usr/local/lib/python3.6/dist-packages pip      \n",
            "tensorflow                    2.3.0           /usr/local/lib/python3.6/dist-packages pip      \n",
            "tensorflow-addons             0.8.3           /usr/local/lib/python3.6/dist-packages pip      \n",
            "tensorflow-datasets           4.0.1           /usr/local/lib/python3.6/dist-packages pip      \n",
            "tensorflow-estimator          2.3.0           /usr/local/lib/python3.6/dist-packages pip      \n",
            "tensorflow-gcs-config         2.3.0           /usr/local/lib/python3.6/dist-packages pip      \n",
            "tensorflow-hub                0.10.0          /usr/local/lib/python3.6/dist-packages pip      \n",
            "tensorflow-metadata           0.25.0          /usr/local/lib/python3.6/dist-packages pip      \n",
            "tensorflow-privacy            0.2.2           /usr/local/lib/python3.6/dist-packages pip      \n",
            "tensorflow-probability        0.11.0          /usr/local/lib/python3.6/dist-packages pip      \n",
            "termcolor                     1.1.0           /usr/local/lib/python3.6/dist-packages pip      \n",
            "terminado                     0.9.1           /usr/local/lib/python3.6/dist-packages pip      \n",
            "testpath                      0.4.4           /usr/local/lib/python3.6/dist-packages pip      \n",
            "text-unidecode                1.3             /usr/local/lib/python3.6/dist-packages pip      \n",
            "textblob                      0.15.3          /usr/local/lib/python3.6/dist-packages pip      \n",
            "textgenrnn                    1.4.1           /usr/local/lib/python3.6/dist-packages pip      \n",
            "Theano                        1.0.5           /usr/local/lib/python3.6/dist-packages pip      \n",
            "thinc                         7.4.0           /usr/local/lib/python3.6/dist-packages pip      \n",
            "tifffile                      2020.9.3        /usr/local/lib/python3.6/dist-packages pip      \n",
            "toml                          0.10.2          /usr/local/lib/python3.6/dist-packages pip      \n",
            "toolz                         0.11.1          /usr/local/lib/python3.6/dist-packages pip      \n",
            "torch                         1.7.0+cu101     /usr/local/lib/python3.6/dist-packages pip      \n",
            "torchsummary                  1.5.1           /usr/local/lib/python3.6/dist-packages pip      \n",
            "torchtext                     0.3.1           /usr/local/lib/python3.6/dist-packages pip      \n",
            "torchvision                   0.8.1+cu101     /usr/local/lib/python3.6/dist-packages pip      \n",
            "tornado                       5.1.1           /usr/local/lib/python3.6/dist-packages pip      \n",
            "tqdm                          4.41.1          /usr/local/lib/python3.6/dist-packages pip      \n",
            "traitlets                     4.3.3           /usr/local/lib/python3.6/dist-packages pip      \n",
            "tweepy                        3.6.0           /usr/local/lib/python3.6/dist-packages pip      \n",
            "typeguard                     2.7.1           /usr/local/lib/python3.6/dist-packages pip      \n",
            "typing-extensions             3.7.4.3         /usr/local/lib/python3.6/dist-packages pip      \n",
            "tzlocal                       1.5.1           /usr/local/lib/python3.6/dist-packages pip      \n",
            "umap-learn                    0.4.6           /usr/local/lib/python3.6/dist-packages pip      \n",
            "uritemplate                   3.0.1           /usr/local/lib/python3.6/dist-packages pip      \n",
            "urllib3                       1.24.3          /usr/local/lib/python3.6/dist-packages pip      \n",
            "vega-datasets                 0.8.0           /usr/local/lib/python3.6/dist-packages pip      \n",
            "wasabi                        0.8.0           /usr/local/lib/python3.6/dist-packages pip      \n",
            "wcwidth                       0.2.5           /usr/local/lib/python3.6/dist-packages pip      \n",
            "webencodings                  0.5.1           /usr/local/lib/python3.6/dist-packages pip      \n",
            "Werkzeug                      1.0.1           /usr/local/lib/python3.6/dist-packages pip      \n",
            "wheel                         0.35.1          /usr/local/lib/python3.6/dist-packages pip      \n",
            "widgetsnbextension            3.5.1           /usr/local/lib/python3.6/dist-packages pip      \n",
            "wordcloud                     1.5.0           /usr/local/lib/python3.6/dist-packages pip      \n",
            "wrapt                         1.12.1          /usr/local/lib/python3.6/dist-packages pip      \n",
            "xarray                        0.15.1          /usr/local/lib/python3.6/dist-packages pip      \n",
            "xgboost                       0.90            /usr/local/lib/python3.6/dist-packages pip      \n",
            "xkit                          0.0.0           /usr/lib/python3/dist-packages                  \n",
            "xlrd                          1.1.0           /usr/local/lib/python3.6/dist-packages pip      \n",
            "xlwt                          1.3.0           /usr/local/lib/python3.6/dist-packages pip      \n",
            "yellowbrick                   0.9.1           /usr/local/lib/python3.6/dist-packages pip      \n",
            "zict                          2.0.0           /usr/local/lib/python3.6/dist-packages pip      \n",
            "zipp                          3.4.0           /usr/local/lib/python3.6/dist-packages pip      \n"
          ],
          "name": "stdout"
        }
      ]
    },
    {
      "cell_type": "code",
      "metadata": {
        "colab": {
          "base_uri": "https://localhost:8080/"
        },
        "id": "CRWSVDM4JBqf",
        "outputId": "72f3928d-d3cd-4328-c550-4e3e55b2a2f9"
      },
      "source": [
        "from random import choice\n",
        "import random\n",
        "random.seed(10)\n",
        "################################################################# \n",
        "# Detection de communautés: application de l'algorithme de Louvain \n",
        "g_doc_term = nx.from_numpy_matrix(mat_adj_abstract)\n",
        "g_tit_term = nx.from_numpy_matrix(mat_adj_titre)\n",
        "g_doc_auth = nx.from_numpy_array(mat_adj_auteurs)\n",
        "\n",
        "partition_doc_term = community.best_partition(g_doc_term) \n",
        "partition_tit_term = community.best_partition(g_tit_term)\n",
        "partition_doc_auth = community.best_partition(g_doc_auth)\n",
        "\n",
        "\n",
        "print(\"partition doc term\", partition_doc_term) \n",
        "print(\"partition title term\", partition_tit_term) \n",
        "print(\"partition doc author\", partition_doc_auth) \n",
        "\n",
        "# Calcul de la modularité liée à cette parition \n",
        "modularity_value_doc_term = community.modularity(partition_doc_term, g_doc_term) \n",
        "modularity_value_tit_term = community.modularity(partition_tit_term, g_tit_term) \n",
        "modularity_value_doc_auth = community.modularity(partition_doc_auth, g_doc_auth)\n",
        "\n",
        "print(\"modularity_value_doc_term\", modularity_value_doc_term) \n",
        "print(\"modularity_value_tit_term\", modularity_value_tit_term) \n",
        "\n",
        "print(\"modularity_value_doc_auth\", modularity_value_doc_auth) \n",
        "\n",
        "\n"
      ],
      "execution_count": null,
      "outputs": [
        {
          "output_type": "stream",
          "text": [
            "cluster_runs [[0 1 1 2 0 2 1 0 2 1]\n",
            " [0 1 2 0 0 2 2 1 2 1]\n",
            " [2 0 0 2 1 1 1 0 1 2]]\n",
            "*****\n",
            "INFO: Cluster_Ensembles: CSPA: consensus clustering using CSPA.\n",
            "\n",
            "#\n",
            "INFO: Cluster_Ensembles: wgraph: writing wgraph_CSPA.\n",
            "#\n",
            "\n",
            "#\n",
            "INFO: Cluster_Ensembles: sgraph: calling gpmetis for graph partitioning.\n",
            "INFO: Cluster_Ensembles: sgraph: (hyper)-graph partitioning completed; loading wgraph_CSPA.part.3\n",
            "#\n",
            "\n",
            "INFO: Cluster_Ensembles: cluster_ensembles: CSPA at 0.4266836461093314.\n",
            "*****\n",
            "\n",
            "*****\n",
            "INFO: Cluster_Ensembles: HGPA: consensus clustering using HGPA.\n",
            "\n",
            "#\n",
            "INFO: Cluster_Ensembles: wgraph: writing wgraph_HGPA.\n",
            "INFO: Cluster_Ensembles: wgraph: 10 vertices and 9 non-zero hyper-edges.\n",
            "#\n",
            "\n",
            "#\n",
            "INFO: Cluster_Ensembles: sgraph: calling shmetis for hypergraph partitioning.\n",
            "INFO: Cluster_Ensembles: sgraph: (hyper)-graph partitioning completed; loading wgraph_HGPA.part.3\n",
            "#\n",
            "\n",
            "INFO: Cluster_Ensembles: cluster_ensembles: HGPA at 0.4615364034991947.\n",
            "*****\n",
            "\n",
            "*****\n",
            "INFO: Cluster_Ensembles: MCLA: consensus clustering using MCLA.\n",
            "INFO: Cluster_Ensembles: MCLA: preparing graph for meta-clustering.\n",
            "INFO: Cluster_Ensembles: MCLA: done filling hypergraph adjacency matrix. Starting computation of Jaccard similarity matrix.\n",
            "INFO: Cluster_Ensembles: MCLA: starting computation of Jaccard similarity matrix.\n",
            "INFO: Cluster_Ensembles: MCLA: done computing the matrix of pairwise Jaccard similarity scores.\n",
            "\n",
            "#\n",
            "INFO: Cluster_Ensembles: wgraph: writing wgraph_MCLA.\n",
            "#\n",
            "\n",
            "#\n",
            "INFO: Cluster_Ensembles: sgraph: calling gpmetis for graph partitioning.\n",
            "INFO: Cluster_Ensembles: sgraph: (hyper)-graph partitioning completed; loading wgraph_MCLA.part.3\n",
            "#\n",
            "INFO: Cluster_Ensembles: MCLA: delivering 3 clusters.\n",
            "INFO: Cluster_Ensembles: MCLA: average posterior probability is 0.789281521299616\n",
            "\n",
            "INFO: Cluster_Ensembles: cluster_ensembles: MCLA at 0.6180656462921543.\n",
            "*****\n",
            "consensus_clustering_labels [2 1 1 2 2 0 0 1 0 1]\n"
          ],
          "name": "stdout"
        }
      ]
    },
    {
      "cell_type": "code",
      "metadata": {
        "id": "-yedTYKkSzjQ"
      },
      "source": [
        ""
      ],
      "execution_count": null,
      "outputs": []
    }
  ]
}